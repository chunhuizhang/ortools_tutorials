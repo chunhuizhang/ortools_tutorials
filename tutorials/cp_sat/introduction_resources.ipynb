{
 "cells": [
  {
   "cell_type": "markdown",
   "id": "80e114fd",
   "metadata": {},
   "source": [
    "## basics"
   ]
  },
  {
   "cell_type": "markdown",
   "id": "f5b34a8f",
   "metadata": {},
   "source": [
    "- mp vs. cp\n",
    "    - https://ibmdecisionoptimization.github.io/docplex-doc/mp_vs_cp.html"
   ]
  },
  {
   "cell_type": "markdown",
   "id": "97ddb5bf",
   "metadata": {},
   "source": [
    "## ortools "
   ]
  },
  {
   "cell_type": "markdown",
   "id": "3b7b6e9e",
   "metadata": {},
   "source": [
    "- https://github.com/d-krupke/cpsat-primer"
   ]
  },
  {
   "cell_type": "markdown",
   "id": "256dadf4",
   "metadata": {},
   "source": [
    "### interval_var 与 No-Overlap"
   ]
  },
  {
   "cell_type": "markdown",
   "id": "f1fb2a04",
   "metadata": {},
   "source": [
    "- scheduling and packing problems.\n",
    "    - 排班，或装箱问题；\n",
    "    "
   ]
  }
 ],
 "metadata": {
  "kernelspec": {
   "display_name": "Python 3 (ipykernel)",
   "language": "python",
   "name": "python3"
  },
  "language_info": {
   "codemirror_mode": {
    "name": "ipython",
    "version": 3
   },
   "file_extension": ".py",
   "mimetype": "text/x-python",
   "name": "python",
   "nbconvert_exporter": "python",
   "pygments_lexer": "ipython3",
   "version": "3.10.9"
  },
  "toc": {
   "base_numbering": 1,
   "nav_menu": {},
   "number_sections": true,
   "sideBar": true,
   "skip_h1_title": false,
   "title_cell": "Table of Contents",
   "title_sidebar": "Contents",
   "toc_cell": false,
   "toc_position": {},
   "toc_section_display": true,
   "toc_window_display": false
  }
 },
 "nbformat": 4,
 "nbformat_minor": 5
}
