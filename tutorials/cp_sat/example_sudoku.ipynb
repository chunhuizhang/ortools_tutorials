{
 "cells": [
  {
   "cell_type": "markdown",
   "id": "fb15ae26",
   "metadata": {},
   "source": [
    "- references\n",
    "    - https://www.academia.edu/2425458/Constraint_Programming_My_View?email_work_card=view-paper"
   ]
  },
  {
   "cell_type": "code",
   "execution_count": 1,
   "id": "df65b506",
   "metadata": {
    "ExecuteTime": {
     "end_time": "2023-12-27T13:01:26.330276Z",
     "start_time": "2023-12-27T13:01:25.867026Z"
    }
   },
   "outputs": [],
   "source": [
    "from ortools.sat.python import cp_model"
   ]
  },
  {
   "cell_type": "code",
   "execution_count": 8,
   "id": "6259d6ff",
   "metadata": {
    "ExecuteTime": {
     "end_time": "2023-12-27T13:09:32.950659Z",
     "start_time": "2023-12-27T13:09:32.940015Z"
    }
   },
   "outputs": [
    {
     "data": {
      "text/plain": [
       "3"
      ]
     },
     "execution_count": 8,
     "metadata": {},
     "output_type": "execute_result"
    }
   ],
   "source": [
    "cp_model.INFEASIBLE"
   ]
  },
  {
   "cell_type": "code",
   "execution_count": 9,
   "id": "9c5bf5d7",
   "metadata": {
    "ExecuteTime": {
     "end_time": "2023-12-27T13:09:52.951942Z",
     "start_time": "2023-12-27T13:09:52.933598Z"
    }
   },
   "outputs": [],
   "source": [
    "def solve_sudoku(grid):\n",
    "    # Create the model\n",
    "    model = cp_model.CpModel()\n",
    "\n",
    "    # Create a 4x4 grid of integers between 1 and 4\n",
    "    cell_size = 4\n",
    "    cells = [[model.NewIntVar(1, cell_size, f'cell_{i}_{j}') for j in range(cell_size)] \n",
    "             for i in range(cell_size)]\n",
    "\n",
    "    # Add constraints for each row and column\n",
    "    for i in range(cell_size):\n",
    "        model.AddAllDifferent([cells[i][j] for j in range(cell_size)])  # Rows\n",
    "        model.AddAllDifferent([cells[j][i] for j in range(cell_size)])  # Columns\n",
    "\n",
    "    # Add constraints for each 2x2 subgrid\n",
    "    for i in range(0, cell_size, 2):\n",
    "        for j in range(0, cell_size, 2):\n",
    "            square = [cells[i + di][j + dj] for di in range(2) for dj in range(2)]\n",
    "            model.AddAllDifferent(square)\n",
    "\n",
    "    # Set the initial values provided in the puzzle\n",
    "    for i in range(cell_size):\n",
    "        for j in range(cell_size):\n",
    "            if grid[i][j] != 0:\n",
    "                model.Add(cells[i][j] == grid[i][j])\n",
    "\n",
    "    # Create a solver and solve the model\n",
    "    solver = cp_model.CpSolver()\n",
    "    status = solver.Solve(model)\n",
    "\n",
    "    if status == cp_model.INFEASIBLE:\n",
    "        print(f\"{status}, No solution found.\")\n",
    "    else:\n",
    "        for i in range(cell_size):\n",
    "            print(' '.join(str(solver.Value(cells[i][j])) for j in range(cell_size)))"
   ]
  },
  {
   "cell_type": "code",
   "execution_count": 10,
   "id": "316f19b8",
   "metadata": {
    "ExecuteTime": {
     "end_time": "2023-12-27T13:09:53.922758Z",
     "start_time": "2023-12-27T13:09:53.905231Z"
    }
   },
   "outputs": [
    {
     "name": "stdout",
     "output_type": "stream",
     "text": [
      "4 2 1 3\n",
      "3 1 2 4\n",
      "2 3 4 1\n",
      "1 4 3 2\n"
     ]
    }
   ],
   "source": [
    "# Define the puzzle grid, where 0 represents an empty cell\n",
    "puzzle = [\n",
    "    [4, 0, 0, 0],\n",
    "    [3, 1, 0, 0],\n",
    "    [0, 0, 4, 1],\n",
    "    [0, 0, 0, 2]\n",
    "]\n",
    "\n",
    "solve_sudoku(puzzle)"
   ]
  },
  {
   "cell_type": "code",
   "execution_count": null,
   "id": "6b49dc5c",
   "metadata": {},
   "outputs": [],
   "source": []
  }
 ],
 "metadata": {
  "kernelspec": {
   "display_name": "Python 3 (ipykernel)",
   "language": "python",
   "name": "python3"
  },
  "language_info": {
   "codemirror_mode": {
    "name": "ipython",
    "version": 3
   },
   "file_extension": ".py",
   "mimetype": "text/x-python",
   "name": "python",
   "nbconvert_exporter": "python",
   "pygments_lexer": "ipython3",
   "version": "3.10.13"
  },
  "toc": {
   "base_numbering": 1,
   "nav_menu": {},
   "number_sections": true,
   "sideBar": true,
   "skip_h1_title": false,
   "title_cell": "Table of Contents",
   "title_sidebar": "Contents",
   "toc_cell": false,
   "toc_position": {},
   "toc_section_display": true,
   "toc_window_display": false
  }
 },
 "nbformat": 4,
 "nbformat_minor": 5
}
