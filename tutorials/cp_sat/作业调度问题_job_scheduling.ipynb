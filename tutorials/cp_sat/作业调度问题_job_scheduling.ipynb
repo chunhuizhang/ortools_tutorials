{
 "cells": [
  {
   "cell_type": "markdown",
   "id": "0d69fbff",
   "metadata": {},
   "source": [
    "## 调度问题举例"
   ]
  },
  {
   "cell_type": "code",
   "execution_count": 1,
   "id": "9e863c36",
   "metadata": {
    "ExecuteTime": {
     "end_time": "2023-11-26T07:56:49.269524Z",
     "start_time": "2023-11-26T07:56:48.793827Z"
    }
   },
   "outputs": [],
   "source": [
    "from ortools.sat.python import cp_model"
   ]
  },
  {
   "cell_type": "code",
   "execution_count": 17,
   "id": "ae6f7de3",
   "metadata": {
    "ExecuteTime": {
     "end_time": "2023-11-26T08:10:42.309441Z",
     "start_time": "2023-11-26T08:10:42.302841Z"
    }
   },
   "outputs": [],
   "source": [
    "# 创建模型\n",
    "model = cp_model.CpModel()"
   ]
  },
  {
   "cell_type": "code",
   "execution_count": 18,
   "id": "a0703f59",
   "metadata": {
    "ExecuteTime": {
     "end_time": "2023-11-26T08:10:44.087087Z",
     "start_time": "2023-11-26T08:10:44.079967Z"
    }
   },
   "outputs": [],
   "source": [
    "# 定义数据\n",
    "jobs_data = [\n",
    "    # (处理时间, 截止时间)\n",
    "    (3, 7),  # 任务 0\n",
    "    (2, 4),  # 任务 1\n",
    "    (4, 10)  # 任务 2\n",
    "]\n",
    "num_jobs = len(jobs_data)"
   ]
  },
  {
   "cell_type": "code",
   "execution_count": 19,
   "id": "00e8fad0",
   "metadata": {
    "ExecuteTime": {
     "end_time": "2023-11-26T08:10:44.970796Z",
     "start_time": "2023-11-26T08:10:44.960828Z"
    }
   },
   "outputs": [],
   "source": [
    "# 定义变量\n",
    "starts = []\n",
    "ends = []\n",
    "for i in range(num_jobs):\n",
    "    duration = jobs_data[i][0]\n",
    "    latest_end = jobs_data[i][1]\n",
    "    start_var = model.NewIntVar(0, latest_end, f'start_{i}')\n",
    "    end_var = model.NewIntVar(0, latest_end, f'end_{i}')\n",
    "    starts.append(start_var)\n",
    "    ends.append(end_var)\n",
    "    model.Add(start_var + duration == end_var)"
   ]
  },
  {
   "cell_type": "code",
   "execution_count": 20,
   "id": "bff04827",
   "metadata": {
    "ExecuteTime": {
     "end_time": "2023-11-26T08:10:46.147244Z",
     "start_time": "2023-11-26T08:10:46.135143Z"
    }
   },
   "outputs": [
    {
     "data": {
      "text/plain": [
       "<ortools.sat.python.cp_model.Constraint at 0x7fc6ea1f5030>"
      ]
     },
     "execution_count": 20,
     "metadata": {},
     "output_type": "execute_result"
    }
   ],
   "source": [
    "# 确保任务不重叠\n",
    "model.AddNoOverlap([model.NewIntervalVar(starts[i], jobs_data[i][0], ends[i], f'interval_{i}')\n",
    "                    for i in range(num_jobs)])"
   ]
  },
  {
   "cell_type": "code",
   "execution_count": 21,
   "id": "2b282981",
   "metadata": {
    "ExecuteTime": {
     "end_time": "2023-11-26T08:10:47.563252Z",
     "start_time": "2023-11-26T08:10:47.554575Z"
    }
   },
   "outputs": [],
   "source": [
    "# 定义一个新变量表示最大结束时间\n",
    "max_end = model.NewIntVar(0, max(job[1] for job in jobs_data), 'max_end')\n",
    "for end_var in ends:\n",
    "    model.Add(max_end >= end_var)"
   ]
  },
  {
   "cell_type": "code",
   "execution_count": 22,
   "id": "b811d7ab",
   "metadata": {
    "ExecuteTime": {
     "end_time": "2023-11-26T08:10:48.585467Z",
     "start_time": "2023-11-26T08:10:48.579656Z"
    }
   },
   "outputs": [],
   "source": [
    "# 定义目标函数：最小化最大结束时间\n",
    "model.Minimize(max_end)"
   ]
  },
  {
   "cell_type": "code",
   "execution_count": 10,
   "id": "bafb9fbe",
   "metadata": {
    "ExecuteTime": {
     "end_time": "2023-11-26T08:00:21.419422Z",
     "start_time": "2023-11-26T08:00:21.374324Z"
    }
   },
   "outputs": [
    {
     "name": "stdout",
     "output_type": "stream",
     "text": [
      "Total length of the schedule: 9.0\n",
      "Job 0 starts at 2 and ends at 5\n",
      "Job 1 starts at 0 and ends at 2\n",
      "Job 2 starts at 5 and ends at 9\n"
     ]
    }
   ],
   "source": [
    "# 创建求解器并求解\n",
    "solver = cp_model.CpSolver()\n",
    "status = solver.Solve(model)\n",
    "\n",
    "# 打印解决方案\n",
    "if status == cp_model.OPTIMAL or status == cp_model.FEASIBLE:\n",
    "    print(f'Total length of the schedule: {solver.ObjectiveValue()}')\n",
    "    for i in range(num_jobs):\n",
    "        print(f'Job {i} starts at {solver.Value(starts[i])} and ends at {solver.Value(ends[i])}')\n",
    "else:\n",
    "    print(\"No solution found.\")"
   ]
  },
  {
   "cell_type": "markdown",
   "id": "e739b923",
   "metadata": {},
   "source": [
    "## 回调函数打印所有的~~最优~~（可行）解"
   ]
  },
  {
   "cell_type": "markdown",
   "id": "49108830",
   "metadata": {},
   "source": [
    "- https://developers.google.com/optimization/cp/cp_solver?hl=zh-cn"
   ]
  },
  {
   "cell_type": "code",
   "execution_count": 12,
   "id": "b2309349",
   "metadata": {
    "ExecuteTime": {
     "end_time": "2023-11-26T08:05:06.258194Z",
     "start_time": "2023-11-26T08:05:06.247117Z"
    }
   },
   "outputs": [],
   "source": [
    "class VarArraySolutionPrinter(cp_model.CpSolverSolutionCallback):\n",
    "    \"\"\"Print intermediate solutions.\"\"\"\n",
    "\n",
    "    def __init__(self, variables):\n",
    "        cp_model.CpSolverSolutionCallback.__init__(self)\n",
    "        self.__variables = variables\n",
    "        self.__solution_count = 0\n",
    "\n",
    "    def on_solution_callback(self):\n",
    "        self.__solution_count += 1\n",
    "        for v in self.__variables:\n",
    "            print(f\"{v}={self.Value(v)}\", end=\" \")\n",
    "        print()\n",
    "\n",
    "    def solution_count(self):\n",
    "        return self.__solution_count"
   ]
  },
  {
   "cell_type": "code",
   "execution_count": 23,
   "id": "e4fdd6ee",
   "metadata": {
    "ExecuteTime": {
     "end_time": "2023-11-26T08:10:51.199997Z",
     "start_time": "2023-11-26T08:10:51.192578Z"
    }
   },
   "outputs": [],
   "source": [
    "solver = cp_model.CpSolver()\n",
    "solution_printer = VarArraySolutionPrinter([*starts, *ends])\n",
    "# Enumerate all solutions.\n",
    "solver.parameters.enumerate_all_solutions = True"
   ]
  },
  {
   "cell_type": "code",
   "execution_count": 24,
   "id": "9501d048",
   "metadata": {
    "ExecuteTime": {
     "end_time": "2023-11-26T08:10:52.281708Z",
     "start_time": "2023-11-26T08:10:52.272683Z"
    }
   },
   "outputs": [
    {
     "name": "stdout",
     "output_type": "stream",
     "text": [
      "start_0=2 start_1=0 start_2=5 end_0=5 end_1=2 end_2=9 \n"
     ]
    }
   ],
   "source": [
    "# Solve.\n",
    "status = solver.Solve(model, solution_printer)"
   ]
  },
  {
   "cell_type": "code",
   "execution_count": 28,
   "id": "e2899ca6",
   "metadata": {
    "ExecuteTime": {
     "end_time": "2023-11-26T08:14:20.457872Z",
     "start_time": "2023-11-26T08:14:20.448302Z"
    }
   },
   "outputs": [
    {
     "data": {
      "text/plain": [
       "4"
      ]
     },
     "execution_count": 28,
     "metadata": {},
     "output_type": "execute_result"
    }
   ],
   "source": [
    "status "
   ]
  },
  {
   "cell_type": "code",
   "execution_count": 29,
   "id": "2c72c705",
   "metadata": {
    "ExecuteTime": {
     "end_time": "2023-11-26T08:15:13.710387Z",
     "start_time": "2023-11-26T08:15:13.700614Z"
    }
   },
   "outputs": [
    {
     "data": {
      "text/plain": [
       "4"
      ]
     },
     "execution_count": 29,
     "metadata": {},
     "output_type": "execute_result"
    }
   ],
   "source": [
    "cp_model.OPTIMAL"
   ]
  },
  {
   "cell_type": "code",
   "execution_count": 27,
   "id": "2117ff06",
   "metadata": {
    "ExecuteTime": {
     "end_time": "2023-11-26T08:12:53.290900Z",
     "start_time": "2023-11-26T08:12:53.281398Z"
    }
   },
   "outputs": [
    {
     "data": {
      "text/plain": [
       "0"
      ]
     },
     "execution_count": 27,
     "metadata": {},
     "output_type": "execute_result"
    }
   ],
   "source": [
    "solver.Value(starts[1])"
   ]
  }
 ],
 "metadata": {
  "kernelspec": {
   "display_name": "Python 3 (ipykernel)",
   "language": "python",
   "name": "python3"
  },
  "language_info": {
   "codemirror_mode": {
    "name": "ipython",
    "version": 3
   },
   "file_extension": ".py",
   "mimetype": "text/x-python",
   "name": "python",
   "nbconvert_exporter": "python",
   "pygments_lexer": "ipython3",
   "version": "3.10.13"
  },
  "toc": {
   "base_numbering": 1,
   "nav_menu": {},
   "number_sections": true,
   "sideBar": true,
   "skip_h1_title": false,
   "title_cell": "Table of Contents",
   "title_sidebar": "Contents",
   "toc_cell": false,
   "toc_position": {},
   "toc_section_display": true,
   "toc_window_display": false
  }
 },
 "nbformat": 4,
 "nbformat_minor": 5
}
