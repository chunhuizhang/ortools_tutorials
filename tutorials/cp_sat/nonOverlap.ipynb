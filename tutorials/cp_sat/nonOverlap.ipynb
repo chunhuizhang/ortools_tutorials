{
 "cells": [
  {
   "cell_type": "code",
   "execution_count": 5,
   "id": "ef2bea3b",
   "metadata": {
    "ExecuteTime": {
     "end_time": "2023-11-05T07:49:53.087519Z",
     "start_time": "2023-11-05T07:49:53.081316Z"
    },
    "scrolled": true
   },
   "outputs": [],
   "source": [
    "#!pip install ortools"
   ]
  },
  {
   "cell_type": "code",
   "execution_count": 6,
   "id": "4869b703",
   "metadata": {
    "ExecuteTime": {
     "end_time": "2023-11-05T07:52:33.053907Z",
     "start_time": "2023-11-05T07:52:33.046073Z"
    }
   },
   "outputs": [],
   "source": [
    "from ortools.sat.python import cp_model\n",
    "\n",
    "# 创建模型\n",
    "model = cp_model.CpModel()"
   ]
  },
  {
   "cell_type": "markdown",
   "id": "3ec1d7b3",
   "metadata": {},
   "source": [
    "##  `model.AddNoOverlap`\n",
    "\n"
   ]
  },
  {
   "cell_type": "markdown",
   "id": "b841e422",
   "metadata": {},
   "source": [
    "- `interval` 区间不重叠\n",
    "    - 区间集合，一系列区间集合"
   ]
  },
  {
   "cell_type": "code",
   "execution_count": 8,
   "id": "9cef6fe5",
   "metadata": {
    "ExecuteTime": {
     "end_time": "2023-11-05T07:52:48.311865Z",
     "start_time": "2023-11-05T07:52:48.301408Z"
    }
   },
   "outputs": [],
   "source": [
    "# 定义任务的持续时间\n",
    "duration_task1 = 2\n",
    "duration_task2 = 3\n",
    "\n",
    "# 创建两个任务\n",
    "task1_start = model.NewIntVar(0, 100, 'start_task1')\n",
    "task1_end = model.NewIntVar(0, 100, 'end_task1')\n",
    "task1_interval = model.NewIntervalVar(task1_start, duration_task1, task1_end, 'interval_task1')\n",
    "\n",
    "task2_start = model.NewIntVar(0, 100, 'start_task2')\n",
    "task2_end = model.NewIntVar(0, 100, 'end_task2')\n",
    "task2_interval = model.NewIntervalVar(task2_start, duration_task2, task2_end, 'interval_task2')"
   ]
  },
  {
   "cell_type": "code",
   "execution_count": 9,
   "id": "b74d880d",
   "metadata": {
    "ExecuteTime": {
     "end_time": "2023-11-05T07:52:50.696429Z",
     "start_time": "2023-11-05T07:52:50.675878Z"
    },
    "scrolled": true
   },
   "outputs": [
    {
     "name": "stdout",
     "output_type": "stream",
     "text": [
      "Solution:\n",
      "Task1 starts at 0\n",
      "Task1 ends at 2\n",
      "Task2 starts at 2\n",
      "Task2 ends at 5\n"
     ]
    }
   ],
   "source": [
    "# 添加NoOverlap约束\n",
    "model.AddNoOverlap([task1_interval, task2_interval])\n",
    "\n",
    "# 求解模型\n",
    "solver = cp_model.CpSolver()\n",
    "status = solver.Solve(model)\n",
    "\n",
    "# 打印解决方案\n",
    "if status == cp_model.OPTIMAL or status == cp_model.FEASIBLE:\n",
    "    print(\"Solution:\")\n",
    "    print(\"Task1 starts at\", solver.Value(task1_start))\n",
    "    print(\"Task1 ends at\", solver.Value(task1_end))\n",
    "    print(\"Task2 starts at\", solver.Value(task2_start))\n",
    "    print(\"Task2 ends at\", solver.Value(task2_end))\n",
    "else:\n",
    "    print(\"No solution found\")"
   ]
  },
  {
   "cell_type": "code",
   "execution_count": 10,
   "id": "3e41e5db",
   "metadata": {
    "ExecuteTime": {
     "end_time": "2023-11-05T07:59:21.211454Z",
     "start_time": "2023-11-05T07:59:21.190694Z"
    }
   },
   "outputs": [
    {
     "name": "stdout",
     "output_type": "stream",
     "text": [
      "Solution:\n",
      "Task1 starts at 3\n",
      "Task1 ends at 5\n",
      "Task2 starts at 0\n",
      "Task2 ends at 3\n"
     ]
    }
   ],
   "source": [
    "# 添加NoOverlap约束\n",
    "model.AddNoOverlap([task1_interval, task2_interval])\n",
    "# 任务2在任务1前\n",
    "model.Add(task2_end <= task1_start)\n",
    "# 求解模型\n",
    "solver = cp_model.CpSolver()\n",
    "status = solver.Solve(model)\n",
    "\n",
    "# 打印解决方案\n",
    "if status == cp_model.OPTIMAL or status == cp_model.FEASIBLE:\n",
    "    print(\"Solution:\")\n",
    "    print(\"Task1 starts at\", solver.Value(task1_start))\n",
    "    print(\"Task1 ends at\", solver.Value(task1_end))\n",
    "    print(\"Task2 starts at\", solver.Value(task2_start))\n",
    "    print(\"Task2 ends at\", solver.Value(task2_end))\n",
    "else:\n",
    "    print(\"No solution found\")"
   ]
  },
  {
   "cell_type": "code",
   "execution_count": null,
   "id": "35231d33",
   "metadata": {},
   "outputs": [],
   "source": []
  }
 ],
 "metadata": {
  "kernelspec": {
   "display_name": "Python 3 (ipykernel)",
   "language": "python",
   "name": "python3"
  },
  "language_info": {
   "codemirror_mode": {
    "name": "ipython",
    "version": 3
   },
   "file_extension": ".py",
   "mimetype": "text/x-python",
   "name": "python",
   "nbconvert_exporter": "python",
   "pygments_lexer": "ipython3",
   "version": "3.10.9"
  },
  "toc": {
   "base_numbering": 1,
   "nav_menu": {},
   "number_sections": true,
   "sideBar": true,
   "skip_h1_title": false,
   "title_cell": "Table of Contents",
   "title_sidebar": "Contents",
   "toc_cell": false,
   "toc_position": {},
   "toc_section_display": true,
   "toc_window_display": false
  }
 },
 "nbformat": 4,
 "nbformat_minor": 5
}
