{
 "cells": [
  {
   "cell_type": "markdown",
   "id": "3cd3750a",
   "metadata": {},
   "source": [
    "### model.addElement"
   ]
  },
  {
   "cell_type": "markdown",
   "id": "34129c8b",
   "metadata": {},
   "source": [
    "- `model.addElement(index, var_arr, target)`\n",
    "    - `target == var_arr[index]`"
   ]
  },
  {
   "cell_type": "markdown",
   "id": "01394f0e",
   "metadata": {},
   "source": [
    "### model.addImplicitation"
   ]
  },
  {
   "cell_type": "markdown",
   "id": "980b8181",
   "metadata": {},
   "source": [
    "- 逻辑蕴含，if then"
   ]
  }
 ],
 "metadata": {
  "kernelspec": {
   "display_name": "Python 3 (ipykernel)",
   "language": "python",
   "name": "python3"
  },
  "language_info": {
   "codemirror_mode": {
    "name": "ipython",
    "version": 3
   },
   "file_extension": ".py",
   "mimetype": "text/x-python",
   "name": "python",
   "nbconvert_exporter": "python",
   "pygments_lexer": "ipython3",
   "version": "3.10.13"
  },
  "toc": {
   "base_numbering": 1,
   "nav_menu": {},
   "number_sections": true,
   "sideBar": true,
   "skip_h1_title": false,
   "title_cell": "Table of Contents",
   "title_sidebar": "Contents",
   "toc_cell": false,
   "toc_position": {},
   "toc_section_display": true,
   "toc_window_display": false
  }
 },
 "nbformat": 4,
 "nbformat_minor": 5
}
