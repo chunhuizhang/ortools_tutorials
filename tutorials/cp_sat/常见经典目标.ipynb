{
 "cells": [
  {
   "cell_type": "markdown",
   "id": "e63c85f7",
   "metadata": {},
   "source": [
    "## 排班"
   ]
  },
  {
   "cell_type": "markdown",
   "id": "49d0149d",
   "metadata": {},
   "source": [
    "### 最小结束时间（蕴含着一个最大）"
   ]
  },
  {
   "cell_type": "markdown",
   "id": "54ccca19",
   "metadata": {},
   "source": [
    "$$\n",
    "\\min\\max_{i\\in I} \\text{endOf}(t_i)\n",
    "$$"
   ]
  },
  {
   "cell_type": "markdown",
   "id": "75a6cf32",
   "metadata": {},
   "source": [
    "- $t_i$ 表示一组区间变量，$\\text{endOf}(t_i)$ 提取其结束时间（避免引入更多的中间决策变量）\n",
    "- 遍历所有的结束时间，得到最大值，这部分可以引入一个中间的过程变量 `max_end_time`"
   ]
  }
 ],
 "metadata": {
  "kernelspec": {
   "display_name": "Python 3 (ipykernel)",
   "language": "python",
   "name": "python3"
  },
  "language_info": {
   "codemirror_mode": {
    "name": "ipython",
    "version": 3
   },
   "file_extension": ".py",
   "mimetype": "text/x-python",
   "name": "python",
   "nbconvert_exporter": "python",
   "pygments_lexer": "ipython3",
   "version": "3.10.9"
  },
  "toc": {
   "base_numbering": 1,
   "nav_menu": {},
   "number_sections": true,
   "sideBar": true,
   "skip_h1_title": false,
   "title_cell": "Table of Contents",
   "title_sidebar": "Contents",
   "toc_cell": false,
   "toc_position": {},
   "toc_section_display": true,
   "toc_window_display": false
  }
 },
 "nbformat": 4,
 "nbformat_minor": 5
}
