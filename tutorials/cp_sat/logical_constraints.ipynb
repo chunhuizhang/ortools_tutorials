{
 "cells": [
  {
   "cell_type": "markdown",
   "id": "370d7f31",
   "metadata": {},
   "source": [
    "## basics"
   ]
  },
  {
   "cell_type": "markdown",
   "id": "aaa24ef5",
   "metadata": {},
   "source": [
    "- logical constraint operators\n",
    "    - &&, and\n",
    "    - ||, or\n",
    "    - !, not\n",
    "    - =>, implies\n",
    "    - !=, not equal to\n",
    "    - ==, equal to "
   ]
  },
  {
   "cell_type": "markdown",
   "id": "bcc1b26f",
   "metadata": {},
   "source": [
    "## case"
   ]
  },
  {
   "cell_type": "markdown",
   "id": "6f982361",
   "metadata": {},
   "source": [
    "- 有三个布尔变量 $b_1, b_2, b_3$\n",
    "    - 如果 $b_1$ 成立（或叫为真）则有 $A_1x\\leq b_1$\n",
    "    - 如果 $b_2$ 成立（或叫为真）则有 $A_2x\\leq b_2$\n",
    "    - 如果 $b_3$ 成立（或叫为真）则有 $A_3x\\leq b_3$\n",
    "    - XOR ((b_1, b_2), b_3)（异或就是非此即彼，不允许同时为真，或同时为假）\n",
    "        - 或者 (b_1, b_2) 为真，b_3 为假；\n",
    "        - 或者 (b_1, b_2) 为假，b_3 为真；\n",
    "\n",
    "- 进一步整理可得\n",
    "    - if $b_1=1 \\Rightarrow A_1x\\leq b_1$\n",
    "    - if $b_2=1 \\Rightarrow A_2x\\leq b_2$\n",
    "    - if $b_3=1 \\Rightarrow A_3x\\leq b_3, b_1=0,b_2=0$\n",
    "        - $b_1+b_2=0$\n",
    "    - else $b_3=0 \\Rightarrow b_1+b_2\\geq 1$"
   ]
  }
 ],
 "metadata": {
  "kernelspec": {
   "display_name": "Python 3 (ipykernel)",
   "language": "python",
   "name": "python3"
  },
  "language_info": {
   "codemirror_mode": {
    "name": "ipython",
    "version": 3
   },
   "file_extension": ".py",
   "mimetype": "text/x-python",
   "name": "python",
   "nbconvert_exporter": "python",
   "pygments_lexer": "ipython3",
   "version": "3.10.9"
  },
  "toc": {
   "base_numbering": 1,
   "nav_menu": {},
   "number_sections": true,
   "sideBar": true,
   "skip_h1_title": false,
   "title_cell": "Table of Contents",
   "title_sidebar": "Contents",
   "toc_cell": false,
   "toc_position": {},
   "toc_section_display": true,
   "toc_window_display": false
  }
 },
 "nbformat": 4,
 "nbformat_minor": 5
}
