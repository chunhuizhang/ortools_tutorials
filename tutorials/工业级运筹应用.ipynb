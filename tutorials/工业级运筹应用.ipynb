{
 "cells": [
  {
   "cell_type": "markdown",
   "id": "185b8099",
   "metadata": {},
   "source": [
    "## 约束规划"
   ]
  },
  {
   "cell_type": "markdown",
   "id": "4a421f36",
   "metadata": {},
   "source": [
    "- 大规模复杂问题求解时，约束规划会比 MILP 有显著求解效率的提升；\n",
    "    - 规定时间，MILP 求不出最优解，约束规划反而可以；"
   ]
  }
 ],
 "metadata": {
  "kernelspec": {
   "display_name": "Python 3 (ipykernel)",
   "language": "python",
   "name": "python3"
  },
  "language_info": {
   "codemirror_mode": {
    "name": "ipython",
    "version": 3
   },
   "file_extension": ".py",
   "mimetype": "text/x-python",
   "name": "python",
   "nbconvert_exporter": "python",
   "pygments_lexer": "ipython3",
   "version": "3.10.9"
  },
  "toc": {
   "base_numbering": 1,
   "nav_menu": {},
   "number_sections": true,
   "sideBar": true,
   "skip_h1_title": false,
   "title_cell": "Table of Contents",
   "title_sidebar": "Contents",
   "toc_cell": false,
   "toc_position": {},
   "toc_section_display": true,
   "toc_window_display": false
  }
 },
 "nbformat": 4,
 "nbformat_minor": 5
}
