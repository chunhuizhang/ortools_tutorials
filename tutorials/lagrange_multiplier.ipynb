{
 "cells": [
  {
   "cell_type": "code",
   "execution_count": 1,
   "id": "73c7891c",
   "metadata": {
    "ExecuteTime": {
     "end_time": "2024-02-14T10:09:29.050237Z",
     "start_time": "2024-02-14T10:09:29.034229Z"
    }
   },
   "outputs": [],
   "source": [
    "from IPython.display import Image"
   ]
  },
  {
   "cell_type": "markdown",
   "id": "19344a29",
   "metadata": {},
   "source": [
    "## basics"
   ]
  },
  {
   "cell_type": "markdown",
   "id": "3586a777",
   "metadata": {},
   "source": [
    "- 有约束问题（constraints）的优化问题（optimization）\n",
    "    - reduce the constrained problem to an unconstrained problem and apply the derivative test.\n"
   ]
  },
  {
   "cell_type": "markdown",
   "id": "476aeba8",
   "metadata": {},
   "source": [
    "- Lagrangian function\n",
    "\n",
    "$$\n",
    "\\mathcal{L}(x,\\lambda)\\equiv f(x)+\\langle \\lambda,g(x)\\rangle\n",
    "$$\n",
    "\n",
    "- $\\langle \\cdot,\\cdot\\rangle$ 表示的是内积；\n",
    "\n",
    "$$\n",
    "\\frac{\\partial \\mathcal L(x,\\lambda)}{\\partial x}=0,\\quad \\frac{\\partial \\mathcal L(x,\\lambda )}{\\partial \\lambda}=0\n",
    "$$"
   ]
  },
  {
   "cell_type": "markdown",
   "id": "62758d03",
   "metadata": {},
   "source": [
    "## examples"
   ]
  },
  {
   "cell_type": "markdown",
   "id": "443241cf",
   "metadata": {},
   "source": [
    "- 当 $x^2+y^2=1$（constraints）时，求 $x+y$ 的最小值"
   ]
  },
  {
   "cell_type": "code",
   "execution_count": 2,
   "id": "47db8764",
   "metadata": {
    "ExecuteTime": {
     "end_time": "2024-02-14T10:09:38.029479Z",
     "start_time": "2024-02-14T10:09:38.013696Z"
    }
   },
   "outputs": [
    {
     "data": {
      "text/html": [
       "<img src=\"https://miro.medium.com/v2/resize:fit:600/format:webp/0*DAoxwGAHlVpR-Zf0.png\"/>"
      ],
      "text/plain": [
       "<IPython.core.display.Image object>"
      ]
     },
     "execution_count": 2,
     "metadata": {},
     "output_type": "execute_result"
    }
   ],
   "source": [
    "Image(url='https://miro.medium.com/v2/resize:fit:600/format:webp/0*DAoxwGAHlVpR-Zf0.png')"
   ]
  },
  {
   "cell_type": "markdown",
   "id": "ec6feeba",
   "metadata": {},
   "source": [
    "$$\n",
    "L(x,y,\\lambda)=f(x,y)-\\lambda g(x,y)=(x+y)-\\lambda (x^2+y^2-1)\\\\\n",
    "\\frac{\\partial L}{\\partial x}=1-2\\lambda x=0, \\quad x=\\frac{1}{2\\lambda}\\\\\n",
    "\\frac{\\partial L}{\\partial y}=1-2\\lambda y=0, \\quad y=\\frac1{2\\lambda}\\\\\n",
    "\\frac{\\partial L}{\\partial \\lambda}=x^2+y^2-1=0,\\quad x^2+y^2=1\n",
    "$$\n",
    "\n",
    "- 多元函数取得极小值的必要条件（各偏导为0），再加上 $x^2+y^2=1$ 的约束，求得\n",
    "    - $\\lambda=\\pm\\frac1{\\sqrt 2}$\n",
    "        - $\\lambda=\\frac1{\\sqrt 2}$ 时，$x=y=\\frac1{\\sqrt2}$, $x+y=\\sqrt 2$（取得最大值）\n",
    "        - $\\lambda=-\\frac1{\\sqrt 2}$ 时，$x=y=-\\frac1{\\sqrt2}$, $x+y=-\\sqrt 2$（取得最小值）"
   ]
  },
  {
   "cell_type": "markdown",
   "id": "de7ac11a",
   "metadata": {},
   "source": [
    "## python sympy"
   ]
  },
  {
   "cell_type": "code",
   "execution_count": 15,
   "id": "c5c70f9e",
   "metadata": {
    "ExecuteTime": {
     "end_time": "2024-02-14T10:18:39.606267Z",
     "start_time": "2024-02-14T10:18:39.593057Z"
    }
   },
   "outputs": [],
   "source": [
    "import sympy as sp\n",
    "sp.init_printing()"
   ]
  },
  {
   "cell_type": "code",
   "execution_count": 16,
   "id": "d15491a7",
   "metadata": {
    "ExecuteTime": {
     "end_time": "2024-02-14T10:18:40.552174Z",
     "start_time": "2024-02-14T10:18:40.544817Z"
    }
   },
   "outputs": [],
   "source": [
    "x, y, lambd = sp.var('x, y, lambda')"
   ]
  },
  {
   "cell_type": "code",
   "execution_count": 24,
   "id": "188cf0ba",
   "metadata": {
    "ExecuteTime": {
     "end_time": "2024-02-14T10:19:32.078650Z",
     "start_time": "2024-02-14T10:19:32.071272Z"
    }
   },
   "outputs": [],
   "source": [
    "f = x + y\n",
    "g = x**2 + y**2 - 1"
   ]
  },
  {
   "cell_type": "code",
   "execution_count": 25,
   "id": "80e184fb",
   "metadata": {
    "ExecuteTime": {
     "end_time": "2024-02-14T10:19:32.997976Z",
     "start_time": "2024-02-14T10:19:32.990901Z"
    }
   },
   "outputs": [],
   "source": [
    "L = f - lambd*g"
   ]
  },
  {
   "cell_type": "code",
   "execution_count": 26,
   "id": "d6881a46",
   "metadata": {
    "ExecuteTime": {
     "end_time": "2024-02-14T10:19:34.338864Z",
     "start_time": "2024-02-14T10:19:33.866812Z"
    }
   },
   "outputs": [
    {
     "data": {
      "image/png": "[encoded data removed]",
      "text/latex": [
       "$\\displaystyle \\left[ - 2 \\lambda x + 1, \\  - 2 \\lambda y + 1, \\  - x^{2} - y^{2} + 1\\right]$"
      ],
      "text/plain": [
       "⎡                           2    2    ⎤\n",
       "⎣-2⋅λ⋅x + 1, -2⋅λ⋅y + 1, - x  - y  + 1⎦"
      ]
     },
     "execution_count": 26,
     "metadata": {},
     "output_type": "execute_result"
    }
   ],
   "source": [
    "grad_L = [sp.diff(L, v) for v in [x, y, lambd]]\n",
    "grad_L"
   ]
  },
  {
   "cell_type": "code",
   "execution_count": 28,
   "id": "039dc92d",
   "metadata": {
    "ExecuteTime": {
     "end_time": "2024-02-14T10:20:04.034412Z",
     "start_time": "2024-02-14T10:20:03.495868Z"
    },
    "scrolled": true
   },
   "outputs": [
    {
     "data": {
      "image/png": "[encoded data removed]",
      "text/latex": [
       "$\\displaystyle \\left[ \\left\\{ \\lambda : - \\frac{\\sqrt{2}}{2}, \\  x : - \\frac{\\sqrt{2}}{2}, \\  y : - \\frac{\\sqrt{2}}{2}\\right\\}, \\  \\left\\{ \\lambda : \\frac{\\sqrt{2}}{2}, \\  x : \\frac{\\sqrt{2}}{2}, \\  y : \\frac{\\sqrt{2}}{2}\\right\\}\\right]$"
      ],
      "text/plain": [
       "⎡⎧   -√2      -√2      -√2 ⎫  ⎧   √2     √2     √2⎫⎤\n",
       "⎢⎨λ: ────, x: ────, y: ────⎬, ⎨λ: ──, x: ──, y: ──⎬⎥\n",
       "⎣⎩    2        2        2  ⎭  ⎩   2      2      2 ⎭⎦"
      ]
     },
     "execution_count": 28,
     "metadata": {},
     "output_type": "execute_result"
    }
   ],
   "source": [
    "sln = sp.solve(grad_L, [x, y, lambd], dict=True)\n",
    "sln"
   ]
  },
  {
   "cell_type": "code",
   "execution_count": 29,
   "id": "460a9056",
   "metadata": {
    "ExecuteTime": {
     "end_time": "2024-02-14T10:20:54.048008Z",
     "start_time": "2024-02-14T10:20:53.591779Z"
    }
   },
   "outputs": [
    {
     "data": {
      "image/png": "[encoded data removed]",
      "text/latex": [
       "$\\displaystyle \\left[ - \\sqrt{2}, \\  \\sqrt{2}\\right]$"
      ],
      "text/plain": [
       "[-√2, √2]"
      ]
     },
     "execution_count": 29,
     "metadata": {},
     "output_type": "execute_result"
    }
   ],
   "source": [
    "[f.subs(p) for p in sln]"
   ]
  }
 ],
 "metadata": {
  "kernelspec": {
   "display_name": "Python 3 (ipykernel)",
   "language": "python",
   "name": "python3"
  },
  "language_info": {
   "codemirror_mode": {
    "name": "ipython",
    "version": 3
   },
   "file_extension": ".py",
   "mimetype": "text/x-python",
   "name": "python",
   "nbconvert_exporter": "python",
   "pygments_lexer": "ipython3",
   "version": "3.10.13"
  },
  "toc": {
   "base_numbering": 1,
   "nav_menu": {},
   "number_sections": true,
   "sideBar": true,
   "skip_h1_title": false,
   "title_cell": "Table of Contents",
   "title_sidebar": "Contents",
   "toc_cell": false,
   "toc_position": {},
   "toc_section_display": true,
   "toc_window_display": false
  }
 },
 "nbformat": 4,
 "nbformat_minor": 5
}
