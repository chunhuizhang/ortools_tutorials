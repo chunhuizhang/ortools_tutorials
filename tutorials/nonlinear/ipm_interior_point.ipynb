{
 "cells": [
  {
   "cell_type": "markdown",
   "id": "34468a65-7b98-4b02-a0ff-7f23b01aedcc",
   "metadata": {},
   "source": [
    "## basics"
   ]
  },
  {
   "cell_type": "markdown",
   "id": "5610780f-ccfc-4c7a-a9f3-3b3417dee7e5",
   "metadata": {},
   "source": [
    "- 适用于凸优化中的线性或非线性问题\n",
    "- references\n",
    "    - https://optimization.cbe.cornell.edu/index.php?title=Interior-point_method_for_NLP"
   ]
  }
 ],
 "metadata": {
  "kernelspec": {
   "display_name": "Python 3 (ipykernel)",
   "language": "python",
   "name": "python3"
  },
  "language_info": {
   "codemirror_mode": {
    "name": "ipython",
    "version": 3
   },
   "file_extension": ".py",
   "mimetype": "text/x-python",
   "name": "python",
   "nbconvert_exporter": "python",
   "pygments_lexer": "ipython3",
   "version": "3.10.13"
  }
 },
 "nbformat": 4,
 "nbformat_minor": 5
}
