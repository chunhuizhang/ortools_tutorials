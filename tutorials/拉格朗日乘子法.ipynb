{
 "cells": [
  {
   "cell_type": "markdown",
   "id": "62758d03",
   "metadata": {},
   "source": [
    "## examples"
   ]
  },
  {
   "cell_type": "markdown",
   "id": "443241cf",
   "metadata": {},
   "source": [
    "- 当 $x^2+y^2=1$ 时，求 $x+y$ 的最小值"
   ]
  },
  {
   "cell_type": "markdown",
   "id": "ec6feeba",
   "metadata": {},
   "source": [
    "$$\n",
    "L=f(x,y)-\\lambda g(x,y)=(x+y)-\\lambda (x^2+y^2-1)\\\\\n",
    "\\frac{\\partial L}{\\partial x}=1-2\\lambda x=0\\\\\n",
    "\\frac{\\partial L}{\\partial y}=1-2\\lambda y=0\\\\\n",
    "$$\n",
    "\n",
    "- 多元函数取得极小值的必要条件（各偏导为0），再加上 $x^2+y^2=1$ 的约束，求得\n",
    "    - $\\lambda=\\pm\\frac1{\\sqrt 2}$\n",
    "        - $\\lambda=\\frac1{\\sqrt 2}$ 时，$x=y=\\frac1{\\sqrt2}$, $x+y=\\sqrt 2$\n",
    "        - $\\lambda=-\\frac1{\\sqrt 2}$ 时，$x=y=-\\frac1{\\sqrt2}$, $x+y=-\\sqrt 2$"
   ]
  }
 ],
 "metadata": {
  "kernelspec": {
   "display_name": "Python 3 (ipykernel)",
   "language": "python",
   "name": "python3"
  },
  "language_info": {
   "codemirror_mode": {
    "name": "ipython",
    "version": 3
   },
   "file_extension": ".py",
   "mimetype": "text/x-python",
   "name": "python",
   "nbconvert_exporter": "python",
   "pygments_lexer": "ipython3",
   "version": "3.10.13"
  },
  "toc": {
   "base_numbering": 1,
   "nav_menu": {},
   "number_sections": true,
   "sideBar": true,
   "skip_h1_title": false,
   "title_cell": "Table of Contents",
   "title_sidebar": "Contents",
   "toc_cell": false,
   "toc_position": {},
   "toc_section_display": true,
   "toc_window_display": false
  }
 },
 "nbformat": 4,
 "nbformat_minor": 5
}
