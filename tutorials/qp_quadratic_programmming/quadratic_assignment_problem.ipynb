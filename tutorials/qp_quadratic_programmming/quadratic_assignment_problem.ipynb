{
 "cells": [
  {
   "cell_type": "markdown",
   "id": "908788ce",
   "metadata": {},
   "source": [
    "\n",
    "- references\n",
    "    - https://docs.scipy.org/doc/scipy/reference/generated/scipy.optimize.quadratic_assignment.html\n",
    "\n",
    "$$\n",
    "\\min_{P}\\quad\\text{trace}(A^TPBP^T)\\\\\n",
    "\\text{s.t.}\\quad P\\in \\mathcal P\n",
    "$$\n",
    "\n",
    "- where $\\mathcal P$ is the set of all permutation matrices, and $A$ and $B$ are square matrices.\n",
    "- Note that the quadratic assignment problem is NP-hard. The results given here are approximations and are not guaranteed to be optimal."
   ]
  },
  {
   "cell_type": "markdown",
   "id": "e5443e34",
   "metadata": {},
   "source": [
    "## 实际意义"
   ]
  },
  {
   "cell_type": "markdown",
   "id": "e6a74364",
   "metadata": {},
   "source": [
    "- 矩阵 $A$ 的意义：矩阵 $A$ 通常表示设施之间的相互作用强度。在实际应用中，这可以是如工厂中不同部门之间的物流量、医院中不同部门之间的患者流动等。\n",
    "- 矩阵 $B$ 的意义：矩阵 $B$ 通常代表距离或成本。在布局问题中，这可以是不同位置之间的物理距离、成本或者交通时间。\n",
    "- 乘积的目的：乘积 $A_{ik}B_{jl}$ 实际上计算了将设施 $i$ 和 $k$ 分别放置在位置 $j$ 和 $l$ 时所产生的总成本或效益；\n",
    "    - 如果 $A_{ik}$ 是部门 $i$ 和 $j$ 之间的物流量，而 $B_{jl}$ 是位置 $j$ 和 $l$ 之间的运输成本；"
   ]
  }
 ],
 "metadata": {
  "kernelspec": {
   "display_name": "Python 3 (ipykernel)",
   "language": "python",
   "name": "python3"
  },
  "language_info": {
   "codemirror_mode": {
    "name": "ipython",
    "version": 3
   },
   "file_extension": ".py",
   "mimetype": "text/x-python",
   "name": "python",
   "nbconvert_exporter": "python",
   "pygments_lexer": "ipython3",
   "version": "3.10.13"
  },
  "toc": {
   "base_numbering": 1,
   "nav_menu": {},
   "number_sections": true,
   "sideBar": true,
   "skip_h1_title": false,
   "title_cell": "Table of Contents",
   "title_sidebar": "Contents",
   "toc_cell": false,
   "toc_position": {},
   "toc_section_display": true,
   "toc_window_display": false
  }
 },
 "nbformat": 4,
 "nbformat_minor": 5
}
