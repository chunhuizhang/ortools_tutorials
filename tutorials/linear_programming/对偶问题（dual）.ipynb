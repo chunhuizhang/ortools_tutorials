{
 "cells": [
  {
   "cell_type": "markdown",
   "id": "ce1bd897",
   "metadata": {},
   "source": [
    "- references\n",
    "    - https://www.jianshu.com/p/912782f69caf"
   ]
  },
  {
   "cell_type": "markdown",
   "id": "7b0b3c03",
   "metadata": {},
   "source": [
    "## dual value (shadow price)"
   ]
  },
  {
   "cell_type": "markdown",
   "id": "cb567891",
   "metadata": {},
   "source": [
    "- 约束条件的边际值（Marginal value），它作用在约束条件粒度\n",
    "    - 对偶值可以被理解为在满足最优解条件下，对某个约束条件的资源限制放宽一个单位，目标函数值将如何变化。\n",
    "        - 约束条件，一般是 <= 某个数值的嘛；\n",
    "        - 约束条件，都会有自己的实际具体含义；\n",
    "            - 比如时间约束；\n",
    "            - 比如资源（原材料）约束；\n",
    "    - 简单来说，它告诉你每单位资源能为目标函数（如利润或成本）带来多少增益或减少。"
   ]
  },
  {
   "cell_type": "markdown",
   "id": "4ae0e43e",
   "metadata": {},
   "source": [
    "### 通过求解对偶问题来计算影子价格"
   ]
  },
  {
   "cell_type": "code",
   "execution_count": 12,
   "id": "b4b1c13b",
   "metadata": {
    "ExecuteTime": {
     "end_time": "2023-11-11T12:20:47.813436Z",
     "start_time": "2023-11-11T12:20:47.783128Z"
    }
   },
   "outputs": [
    {
     "name": "stdout",
     "output_type": "stream",
     "text": [
      "Welcome to the CBC MILP Solver \n",
      "Version: 2.10.3 \n",
      "Build Date: Dec 15 2019 \n",
      "\n",
      "command line - /home/whaow/anaconda3/lib/python3.10/site-packages/pulp/solverdir/cbc/linux/64/cbc /tmp/1c62d0f5262c4bc4a312b1111ac2d1ce-pulp.mps max timeMode elapsed branch printingOptions all solution /tmp/1c62d0f5262c4bc4a312b1111ac2d1ce-pulp.sol (default strategy 1)\n",
      "At line 2 NAME          MODEL\n",
      "At line 3 ROWS\n",
      "At line 7 COLUMNS\n",
      "At line 17 RHS\n",
      "At line 20 BOUNDS\n",
      "At line 21 ENDATA\n",
      "Problem MODEL has 2 rows, 3 columns and 6 elements\n",
      "Coin0008I MODEL read with 0 errors\n",
      "Option for timeMode changed from cpu to elapsed\n",
      "Presolve 2 (0) rows, 3 (0) columns and 6 (0) elements\n",
      "0  Obj -0 Dual inf 130 (3)\n",
      "0  Obj -0 Dual inf 130 (3)\n",
      "1  Obj 1000\n",
      "Optimal - objective value 1000\n",
      "Optimal objective 1000 - 1 iterations time 0.002\n",
      "Option for printingOptions changed from normal to all\n",
      "Total time (CPU seconds):       0.00   (Wallclock seconds):       0.00\n",
      "\n",
      "Optimal x_A: 20.0\n",
      "Optimal x_B: 0.0\n",
      "Optimal x_C: 0.0\n",
      "Total Profit: 1000.0\n"
     ]
    },
    {
     "name": "stderr",
     "output_type": "stream",
     "text": [
      "/home/whaow/anaconda3/lib/python3.10/site-packages/pulp/pulp.py:1352: UserWarning: Spaces are not permitted in the name. Converted to '_'\n",
      "  warnings.warn(\"Spaces are not permitted in the name. Converted to '_'\")\n"
     ]
    }
   ],
   "source": [
    "import pulp\n",
    "\n",
    "# 创建原问题的线性规划实例\n",
    "original_problem = pulp.LpProblem(\"Original Problem\", pulp.LpMaximize)\n",
    "\n",
    "# 定义决策变量\n",
    "x_A = pulp.LpVariable('x_A', lowBound=0, cat='Continuous')\n",
    "x_B = pulp.LpVariable('x_B', lowBound=0, cat='Continuous')\n",
    "x_C = pulp.LpVariable('x_C', lowBound=0, cat='Continuous')\n",
    "\n",
    "# 目标函数\n",
    "original_problem += 50 * x_A + 40 * x_B + 30 * x_C\n",
    "\n",
    "# 约束条件\n",
    "original_problem += 5 * x_A + 4 * x_B + 3 * x_C <= 100, \"Material_Constraint\"\n",
    "original_problem += 2 * x_A + 3 * x_B + 4 * x_C <= 80, \"Labor_Constraint\"\n",
    "\n",
    "# 求解问题\n",
    "original_problem.solve()\n",
    "\n",
    "# 获取结果\n",
    "optimal_x_A = pulp.value(x_A)\n",
    "optimal_x_B = pulp.value(x_B)\n",
    "optimal_x_C = pulp.value(x_C)\n",
    "total_profit = pulp.value(original_problem.objective)\n",
    "\n",
    "print(\"Optimal x_A:\", optimal_x_A)\n",
    "print(\"Optimal x_B:\", optimal_x_B)\n",
    "print(\"Optimal x_C:\", optimal_x_C)\n",
    "print(\"Total Profit:\", total_profit)"
   ]
  },
  {
   "cell_type": "code",
   "execution_count": 11,
   "id": "d60a847e",
   "metadata": {
    "ExecuteTime": {
     "end_time": "2023-11-11T12:20:34.214615Z",
     "start_time": "2023-11-11T12:20:34.207431Z"
    }
   },
   "outputs": [
    {
     "name": "stdout",
     "output_type": "stream",
     "text": [
      "10.0\n",
      "-0.0\n"
     ]
    }
   ],
   "source": [
    "print(original_problem.constraints[\"Material_Constraint\"].pi)\n",
    "print(original_problem.constraints['Labor_Constraint'].pi)"
   ]
  },
  {
   "cell_type": "code",
   "execution_count": 3,
   "id": "c4a1be8d",
   "metadata": {
    "ExecuteTime": {
     "end_time": "2023-11-11T12:15:49.608375Z",
     "start_time": "2023-11-11T12:15:49.586073Z"
    }
   },
   "outputs": [
    {
     "name": "stdout",
     "output_type": "stream",
     "text": [
      "Welcome to the CBC MILP Solver \n",
      "Version: 2.10.3 \n",
      "Build Date: Dec 15 2019 \n",
      "\n",
      "command line - /home/whaow/anaconda3/lib/python3.10/site-packages/pulp/solverdir/cbc/linux/64/cbc /tmp/6388eeb7af0e4893a0eec7d2690c1078-pulp.mps timeMode elapsed branch printingOptions all solution /tmp/6388eeb7af0e4893a0eec7d2690c1078-pulp.sol (default strategy 1)\n",
      "At line 2 NAME          MODEL\n",
      "At line 3 ROWS\n",
      "At line 8 COLUMNS\n",
      "At line 17 RHS\n",
      "At line 21 BOUNDS\n",
      "At line 22 ENDATA\n",
      "Problem MODEL has 3 rows, 2 columns and 6 elements\n",
      "Coin0008I MODEL read with 0 errors\n",
      "Option for timeMode changed from cpu to elapsed\n",
      "Presolve 3 (0) rows, 2 (0) columns and 6 (0) elements\n",
      "0  Obj 0 Primal inf 27.5 (3)\n",
      "1  Obj 1000\n",
      "Optimal - objective value 1000\n",
      "Optimal objective 1000 - 1 iterations time 0.002\n",
      "Option for printingOptions changed from normal to all\n",
      "Total time (CPU seconds):       0.00   (Wallclock seconds):       0.00\n",
      "\n",
      "Optimal y1 (Material Shadow Price): 10.0\n",
      "Optimal y2 (Labor Shadow Price): 0.0\n",
      "Optimal Dual Value: 1000.0\n"
     ]
    }
   ],
   "source": [
    "import pulp\n",
    "\n",
    "# 创建对偶问题\n",
    "dual_problem = pulp.LpProblem(\"Dual Problem\", pulp.LpMinimize)\n",
    "\n",
    "# 定义对偶变量\n",
    "y1 = pulp.LpVariable('y1', lowBound=0, cat='Continuous') # 材料的影子价格\n",
    "y2 = pulp.LpVariable('y2', lowBound=0, cat='Continuous') # 劳动的影子价格\n",
    "\n",
    "# 对偶目标函数\n",
    "dual_problem += 100 * y1 + 80 * y2\n",
    "\n",
    "# 对偶约束条件\n",
    "dual_problem += 5 * y1 + 2 * y2 >= 50\n",
    "dual_problem += 4 * y1 + 3 * y2 >= 40\n",
    "dual_problem += 3 * y1 + 4 * y2 >= 30\n",
    "\n",
    "# 求解对偶问题\n",
    "dual_problem.solve()\n",
    "\n",
    "# 获取结果\n",
    "optimal_y1 = pulp.value(y1)\n",
    "optimal_y2 = pulp.value(y2)\n",
    "optimal_dual_value = pulp.value(dual_problem.objective)\n",
    "\n",
    "print(\"Optimal y1 (Material Shadow Price):\", optimal_y1)\n",
    "print(\"Optimal y2 (Labor Shadow Price):\", optimal_y2)\n",
    "print(\"Optimal Dual Value:\", optimal_dual_value)\n"
   ]
  },
  {
   "cell_type": "markdown",
   "id": "ba692e45",
   "metadata": {},
   "source": [
    "### 与拉格朗日松弛（Lagrange relaxion）"
   ]
  },
  {
   "cell_type": "markdown",
   "id": "8a8c8939",
   "metadata": {},
   "source": [
    "-  Lamba is the marginal value associated with relaxing a constraint. "
   ]
  }
 ],
 "metadata": {
  "kernelspec": {
   "display_name": "Python 3 (ipykernel)",
   "language": "python",
   "name": "python3"
  },
  "language_info": {
   "codemirror_mode": {
    "name": "ipython",
    "version": 3
   },
   "file_extension": ".py",
   "mimetype": "text/x-python",
   "name": "python",
   "nbconvert_exporter": "python",
   "pygments_lexer": "ipython3",
   "version": "3.10.9"
  },
  "toc": {
   "base_numbering": 1,
   "nav_menu": {},
   "number_sections": true,
   "sideBar": true,
   "skip_h1_title": false,
   "title_cell": "Table of Contents",
   "title_sidebar": "Contents",
   "toc_cell": false,
   "toc_position": {},
   "toc_section_display": true,
   "toc_window_display": false
  }
 },
 "nbformat": 4,
 "nbformat_minor": 5
}
