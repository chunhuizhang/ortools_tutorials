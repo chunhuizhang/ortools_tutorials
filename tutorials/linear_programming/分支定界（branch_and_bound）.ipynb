{
 "cells": [
  {
   "cell_type": "markdown",
   "id": "81422d1c",
   "metadata": {},
   "source": [
    "## basics"
   ]
  },
  {
   "cell_type": "markdown",
   "id": "77f7e5a0",
   "metadata": {
    "ExecuteTime": {
     "end_time": "2023-11-09T11:34:40.072431Z",
     "start_time": "2023-11-09T11:34:40.050509Z"
    }
   },
   "source": [
    "- 本质上就是将**搜索空间构造成树**的形式，通过不断地选取和分裂节点，配合剪枝来有效地找寻最优整数解。\n",
    "- 至于如何挑选节点和如何对其赋值对于找到解的速度有很大影响，是门很大的学问，因此衍生出不少启发式（Heuristic）策略。\n",
    "- 割平面法（Cutting Plane）\n",
    "    - 从松弛问题的一个非整数的最优解出发，序贯地添加一个新的线性不等式（其对应线性方程所代表的超平面即称为割平面），\n",
    "    - 求解新的松弛问题的算法。\n",
    "- 列生成算法（Column Generation）运用分解的思想和单纯形法的特点，不是直接同时处理所有的候选方案，而是基于当前生成列的子集，通过限制主问题进行优化求解；其余的候选方案（变量）可以改善限制主问题当前最优解时，才会进入该子集。"
   ]
  }
 ],
 "metadata": {
  "kernelspec": {
   "display_name": "Python 3 (ipykernel)",
   "language": "python",
   "name": "python3"
  },
  "language_info": {
   "codemirror_mode": {
    "name": "ipython",
    "version": 3
   },
   "file_extension": ".py",
   "mimetype": "text/x-python",
   "name": "python",
   "nbconvert_exporter": "python",
   "pygments_lexer": "ipython3",
   "version": "3.10.9"
  },
  "toc": {
   "base_numbering": 1,
   "nav_menu": {},
   "number_sections": true,
   "sideBar": true,
   "skip_h1_title": false,
   "title_cell": "Table of Contents",
   "title_sidebar": "Contents",
   "toc_cell": false,
   "toc_position": {},
   "toc_section_display": true,
   "toc_window_display": false
  }
 },
 "nbformat": 4,
 "nbformat_minor": 5
}
