{
 "cells": [
  {
   "cell_type": "markdown",
   "id": "c1b1c147",
   "metadata": {},
   "source": [
    "## basics"
   ]
  },
  {
   "cell_type": "markdown",
   "id": "d215135c",
   "metadata": {},
   "source": [
    "\n",
    "- `scipy.optimize.linear_sum_assignment`\n",
    "    - https://docs.scipy.org/doc/scipy/reference/generated/scipy.optimize.linear_sum_assignment.html\n",
    "    - The linear sum assignment problem [1] is also known as minimum weight matching in bipartite graphs.\n",
    "    - 默认支持1对1的最优匹配\n",
    "    - 匈牙利算法"
   ]
  },
  {
   "cell_type": "markdown",
   "id": "50b8cb86",
   "metadata": {},
   "source": [
    "## stable marriage problem"
   ]
  },
  {
   "cell_type": "markdown",
   "id": "a31152a2",
   "metadata": {},
   "source": [
    "- https://en.wikipedia.org/wiki/Stable_marriage_problem"
   ]
  }
 ],
 "metadata": {
  "kernelspec": {
   "display_name": "Python 3 (ipykernel)",
   "language": "python",
   "name": "python3"
  },
  "language_info": {
   "codemirror_mode": {
    "name": "ipython",
    "version": 3
   },
   "file_extension": ".py",
   "mimetype": "text/x-python",
   "name": "python",
   "nbconvert_exporter": "python",
   "pygments_lexer": "ipython3",
   "version": "3.10.13"
  },
  "toc": {
   "base_numbering": 1,
   "nav_menu": {},
   "number_sections": true,
   "sideBar": true,
   "skip_h1_title": false,
   "title_cell": "Table of Contents",
   "title_sidebar": "Contents",
   "toc_cell": false,
   "toc_position": {},
   "toc_section_display": true,
   "toc_window_display": false
  }
 },
 "nbformat": 4,
 "nbformat_minor": 5
}
