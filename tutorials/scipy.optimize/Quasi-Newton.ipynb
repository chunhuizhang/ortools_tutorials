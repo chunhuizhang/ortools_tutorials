{
 "cells": [
  {
   "cell_type": "code",
   "execution_count": 59,
   "id": "22f511c3-757f-4042-b7ca-d50085fcab58",
   "metadata": {},
   "outputs": [],
   "source": [
    "from IPython.display import Image\n",
    "import numpy as np\n",
    "import scipy as sp"
   ]
  },
  {
   "cell_type": "markdown",
   "id": "380a6513-e1a6-4434-8206-6d8dfed10229",
   "metadata": {},
   "source": [
    "- 无约束优化问题\n",
    "- GD/SGD：广泛应用在深度神经网络的求解中\n",
    "    - 如果把神经网络视为一个经典的优化问题的话，那么所有的weights/parameters就可以被认为是优化问题中的决策变量（decision variables）\n",
    "- CG，Newton, Quasi-Newton (BFGS 等)：\n",
    "    - 经典优化问题\n",
    "    - xgboost：引入二阶导数信息(hessian)计算 split gain\n",
    "      $$\n",
    "      \\text{Gain} = \\frac{1}{2} \\left[ \\frac{(\\sum_{i \\in L} g_i)^2}{\\sum_{i \\in L} h_i + \\lambda} + \\frac{(\\sum_{i \\in R} g_i)^2}{\\sum_{i \\in R} h_i + \\lambda} - \\frac{(\\sum_{i \\in N} g_i)^2}{\\sum_{i \\in N} h_i + \\lambda} \\right] - \\gamma\n",
    "      $$\n",
    "    - trpo/ppo"
   ]
  },
  {
   "cell_type": "markdown",
   "id": "778676ac-3d5c-41c6-b345-88f1caeb9195",
   "metadata": {},
   "source": [
    "## gradient descent"
   ]
  },
  {
   "cell_type": "code",
   "execution_count": 6,
   "id": "5a66b148-cbd6-4177-b0d4-99328ebe146b",
   "metadata": {},
   "outputs": [
    {
     "data": {
      "text/html": [
       "<img src=\"https://miro.medium.com/v2/resize:fit:1400/format:webp/1*xcUuDFPa7DIQxxHKatXIYA.png\" width=\"500\"/>"
      ],
      "text/plain": [
       "<IPython.core.display.Image object>"
      ]
     },
     "execution_count": 6,
     "metadata": {},
     "output_type": "execute_result"
    }
   ],
   "source": [
    "Image(url='https://miro.medium.com/v2/resize:fit:1400/format:webp/1*xcUuDFPa7DIQxxHKatXIYA.png', width=500)"
   ]
  },
  {
   "cell_type": "markdown",
   "id": "1ce98cf8-bb97-4890-b6c7-c6029be927b3",
   "metadata": {},
   "source": [
    "## Conjugate Gradient"
   ]
  },
  {
   "cell_type": "markdown",
   "id": "6144e199-0d52-44ce-b153-69ca4e269404",
   "metadata": {},
   "source": [
    "$$\n",
    "Ax=b\n",
    "$$\n",
    "- $A$ 对称正定矩阵\n",
    "- 在优化问题中，这等同于求解形式为\n",
    "  $$\n",
    "  \\nabla^2f(x)\\cdot p=-\\nabla f(x)\n",
    "  $$"
   ]
  },
  {
   "cell_type": "code",
   "execution_count": 71,
   "id": "f365509d-a205-41a9-9921-a9235245c2b4",
   "metadata": {},
   "outputs": [
    {
     "data": {
      "text/html": [
       "<img src=\"../../imgs/cg.png\" width=\"500\"/>"
      ],
      "text/plain": [
       "<IPython.core.display.Image object>"
      ]
     },
     "execution_count": 71,
     "metadata": {},
     "output_type": "execute_result"
    }
   ],
   "source": [
    "Image(url='../../imgs/cg.png', width=500)"
   ]
  },
  {
   "cell_type": "code",
   "execution_count": 81,
   "id": "f7065570-d446-4789-932f-1f2ebf89059a",
   "metadata": {},
   "outputs": [],
   "source": [
    "A = np.array([[4, 0, 1, 0],\n",
    "              [0, 5, 0, 0],\n",
    "              [1, 0, 3, 2],\n",
    "              [0, 0, 2, 4]])\n",
    "b = np.array([-1, -0.5, -1, 2])\n",
    "x, exit_code = sp.sparse.linalg.cg(A, b)"
   ]
  },
  {
   "cell_type": "code",
   "execution_count": 82,
   "id": "170c6c1c-1ffa-460e-8cdd-f21e136eb7d7",
   "metadata": {},
   "outputs": [
    {
     "data": {
      "text/plain": [
       "array([ 6.04404796e-18, -1.00000000e-01, -1.00000000e+00,  1.00000000e+00])"
      ]
     },
     "execution_count": 82,
     "metadata": {},
     "output_type": "execute_result"
    }
   ],
   "source": [
    "x"
   ]
  },
  {
   "cell_type": "code",
   "execution_count": 83,
   "id": "3d0dba4d-264f-4c44-b146-5548a0bb4ead",
   "metadata": {},
   "outputs": [
    {
     "data": {
      "text/plain": [
       "array([-1. , -0.5, -1. ,  2. ])"
      ]
     },
     "execution_count": 83,
     "metadata": {},
     "output_type": "execute_result"
    }
   ],
   "source": [
    "A.dot(x)"
   ]
  },
  {
   "cell_type": "markdown",
   "id": "95374aae-e181-42fd-94fb-d686452edb25",
   "metadata": {},
   "source": [
    "## newton's methods"
   ]
  },
  {
   "cell_type": "markdown",
   "id": "df8ccae5-2a2a-4702-9ecc-4208c4508534",
   "metadata": {},
   "source": [
    "- 没有学习率的概念\n",
    "    - hessian 矩阵的逆提供了步长的调整\n",
    "- quadratic approximations"
   ]
  },
  {
   "cell_type": "code",
   "execution_count": 7,
   "id": "e5bc0636-6f34-4722-887b-97b2fb46e9c1",
   "metadata": {},
   "outputs": [
    {
     "data": {
      "text/html": [
       "<img src=\"https://miro.medium.com/v2/resize:fit:1400/format:webp/1*AHxdnlJjQZNzDZp-reRIzg.png\" width=\"500\"/>"
      ],
      "text/plain": [
       "<IPython.core.display.Image object>"
      ]
     },
     "execution_count": 7,
     "metadata": {},
     "output_type": "execute_result"
    }
   ],
   "source": [
    "Image(url='https://miro.medium.com/v2/resize:fit:1400/format:webp/1*AHxdnlJjQZNzDZp-reRIzg.png', width=500)"
   ]
  },
  {
   "cell_type": "code",
   "execution_count": 8,
   "id": "9da6f8c0-5df6-4046-ad87-9b2996ae34a4",
   "metadata": {},
   "outputs": [
    {
     "data": {
      "text/html": [
       "<img src=\"https://miro.medium.com/v2/resize:fit:1400/format:webp/1*6Nb-j3wx7Yrn265ITzPJ3w.png\" width=\"500\"/>"
      ],
      "text/plain": [
       "<IPython.core.display.Image object>"
      ]
     },
     "execution_count": 8,
     "metadata": {},
     "output_type": "execute_result"
    }
   ],
   "source": [
    "Image(url='https://miro.medium.com/v2/resize:fit:1400/format:webp/1*6Nb-j3wx7Yrn265ITzPJ3w.png', width=500)"
   ]
  },
  {
   "cell_type": "code",
   "execution_count": 9,
   "id": "502148f0-86a7-469f-8790-25f6a00099e9",
   "metadata": {},
   "outputs": [
    {
     "data": {
      "text/html": [
       "<img src=\"https://miro.medium.com/v2/resize:fit:1400/format:webp/1*qJX12tZwVh9YdGfx8e34iQ.png\" width=\"500\"/>"
      ],
      "text/plain": [
       "<IPython.core.display.Image object>"
      ]
     },
     "execution_count": 9,
     "metadata": {},
     "output_type": "execute_result"
    }
   ],
   "source": [
    "Image(url='https://miro.medium.com/v2/resize:fit:1400/format:webp/1*qJX12tZwVh9YdGfx8e34iQ.png', width=500)"
   ]
  },
  {
   "cell_type": "code",
   "execution_count": 10,
   "id": "4fc3bfc9-c11b-485a-9da7-550b68795f64",
   "metadata": {},
   "outputs": [
    {
     "data": {
      "text/html": [
       "<img src=\"https://miro.medium.com/v2/resize:fit:1400/format:webp/1*rmcorcWtNbMB65LyWXt5-w.png\" width=\"500\"/>"
      ],
      "text/plain": [
       "<IPython.core.display.Image object>"
      ]
     },
     "execution_count": 10,
     "metadata": {},
     "output_type": "execute_result"
    }
   ],
   "source": [
    "Image(url='https://miro.medium.com/v2/resize:fit:1400/format:webp/1*rmcorcWtNbMB65LyWXt5-w.png', width=500)"
   ]
  },
  {
   "cell_type": "markdown",
   "id": "45940a2c-fb16-495b-8030-7de567a7c5f9",
   "metadata": {},
   "source": [
    "### hessian matrix"
   ]
  },
  {
   "cell_type": "markdown",
   "id": "fdeb1a8b-50c1-42c1-9da6-d387ab1bf3e1",
   "metadata": {},
   "source": [
    "- 当 $f(\\mathbf x)$ 是多元（multi-variables）函数"
   ]
  },
  {
   "cell_type": "code",
   "execution_count": 11,
   "id": "67c835dc-846b-4988-bb89-27ac8f00894b",
   "metadata": {},
   "outputs": [
    {
     "data": {
      "text/html": [
       "<img src=\"https://miro.medium.com/v2/resize:fit:1400/format:webp/1*ieKysCeXqBfwosXEmJSvtw.png\" width=\"500\"/>"
      ],
      "text/plain": [
       "<IPython.core.display.Image object>"
      ]
     },
     "execution_count": 11,
     "metadata": {},
     "output_type": "execute_result"
    }
   ],
   "source": [
    "Image(url='https://miro.medium.com/v2/resize:fit:1400/format:webp/1*ieKysCeXqBfwosXEmJSvtw.png', width=500)"
   ]
  },
  {
   "cell_type": "code",
   "execution_count": 12,
   "id": "bc427a09-7e5f-4617-9fcd-f2e0424e3e85",
   "metadata": {},
   "outputs": [
    {
     "data": {
      "text/html": [
       "<img src=\"https://miro.medium.com/v2/resize:fit:1400/format:webp/1*n-EYGjoYVVc7DlD8KjPx7A.png\" width=\"500\"/>"
      ],
      "text/plain": [
       "<IPython.core.display.Image object>"
      ]
     },
     "execution_count": 12,
     "metadata": {},
     "output_type": "execute_result"
    }
   ],
   "source": [
    "Image(url='https://miro.medium.com/v2/resize:fit:1400/format:webp/1*n-EYGjoYVVc7DlD8KjPx7A.png', width=500)"
   ]
  },
  {
   "cell_type": "code",
   "execution_count": 22,
   "id": "769d6b09-f02f-4e20-8fb1-de8b4bf0e10c",
   "metadata": {},
   "outputs": [
    {
     "data": {
      "text/plain": [
       "([0,\n",
       "  0.8,\n",
       "  1.28,\n",
       "  1.568,\n",
       "  1.7408000000000001,\n",
       "  1.8444800000000001,\n",
       "  1.9066880000000002,\n",
       "  1.9440128,\n",
       "  1.96640768,\n",
       "  1.979844608,\n",
       "  1.9879067648],\n",
       " [0, 2.0, 2.0, 2.0, 2.0, 2.0, 2.0, 2.0, 2.0, 2.0, 2.0])"
      ]
     },
     "execution_count": 22,
     "metadata": {},
     "output_type": "execute_result"
    }
   ],
   "source": [
    "# Function definition\n",
    "def f(x):\n",
    "    return (x - 2)**2\n",
    "\n",
    "# Derivative of the function\n",
    "def df(x):\n",
    "    return 2 * (x - 2)\n",
    "\n",
    "# Second derivative of the function\n",
    "def ddf(x):\n",
    "    return 2\n",
    "\n",
    "# Gradient descent method\n",
    "def gradient_descent(x0, learning_rate, iterations):\n",
    "    x = x0\n",
    "    trajectory = [x]\n",
    "    for _ in range(iterations):\n",
    "        x -= learning_rate * df(x)\n",
    "        trajectory.append(x)\n",
    "    return trajectory\n",
    "\n",
    "# Newton's method\n",
    "def newtons_method(x0, iterations):\n",
    "    x = x0\n",
    "    trajectory = [x]\n",
    "    for _ in range(iterations):\n",
    "        x -= df(x) / ddf(x)\n",
    "        trajectory.append(x)\n",
    "    return trajectory\n",
    "\n",
    "# Parameters setup\n",
    "x0 = 0             # Initial value\n",
    "learning_rate = 0.2  # Learning rate\n",
    "iterations = 10      # Number of iterations\n",
    "\n",
    "# Perform iterations\n",
    "gd_trajectory = gradient_descent(x0, learning_rate, iterations)\n",
    "newton_trajectory = newtons_method(x0, iterations)\n",
    "\n",
    "gd_trajectory, newton_trajectory"
   ]
  },
  {
   "cell_type": "markdown",
   "id": "88d0d9ae-dcc1-43fe-98e9-6a2123645e1b",
   "metadata": {},
   "source": [
    "### rosen"
   ]
  },
  {
   "cell_type": "markdown",
   "id": "c481e287-389b-4cb4-b6fc-fcf7e3d04eab",
   "metadata": {},
   "source": [
    "$$\n",
    "f(x,y)=(x-1)^2 + 10(y-x^2)^2\n",
    "$$"
   ]
  },
  {
   "cell_type": "code",
   "execution_count": 6,
   "id": "5dd23c25-2134-48a5-b955-728fe795095e",
   "metadata": {},
   "outputs": [],
   "source": [
    "import sympy as sy"
   ]
  },
  {
   "cell_type": "code",
   "execution_count": 13,
   "id": "d0f1903f-7587-44ce-8294-085058f35398",
   "metadata": {},
   "outputs": [],
   "source": [
    "x, y = sy.symbols('x y')"
   ]
  },
  {
   "cell_type": "code",
   "execution_count": 12,
   "id": "50225241-bf75-4a84-8d6b-74869944e494",
   "metadata": {},
   "outputs": [],
   "source": [
    "f = (x-1)**2 + 10*(y-x**2)**2"
   ]
  },
  {
   "cell_type": "code",
   "execution_count": 14,
   "id": "4adf2e9e-25d9-422e-a0ed-129c33ba1e27",
   "metadata": {},
   "outputs": [],
   "source": [
    "f = sy.Matrix([f, ])"
   ]
  },
  {
   "cell_type": "code",
   "execution_count": 15,
   "id": "e778fff4-e954-46ed-95ee-fde1470f3044",
   "metadata": {},
   "outputs": [
    {
     "data": {
      "text/latex": [
       "$\\displaystyle \\left[\\begin{matrix}- 40 x \\left(- x^{2} + y\\right) + 2 x - 2 & - 20 x^{2} + 20 y\\end{matrix}\\right]$"
      ],
      "text/plain": [
       "Matrix([[-40*x*(-x**2 + y) + 2*x - 2, -20*x**2 + 20*y]])"
      ]
     },
     "execution_count": 15,
     "metadata": {},
     "output_type": "execute_result"
    }
   ],
   "source": [
    "f.jacobian(sy.Matrix([x, y]))"
   ]
  },
  {
   "cell_type": "code",
   "execution_count": 16,
   "id": "729f9754-6eba-44c7-8b7c-671ce32d8b94",
   "metadata": {},
   "outputs": [
    {
     "data": {
      "text/latex": [
       "$\\displaystyle \\left[\\begin{matrix}120 x^{2} - 40 y + 2 & - 40 x\\\\- 40 x & 20\\end{matrix}\\right]$"
      ],
      "text/plain": [
       "Matrix([\n",
       "[120*x**2 - 40*y + 2, -40*x],\n",
       "[              -40*x,    20]])"
      ]
     },
     "execution_count": 16,
     "metadata": {},
     "output_type": "execute_result"
    }
   ],
   "source": [
    "sy.hessian(f, [x, y])"
   ]
  },
  {
   "cell_type": "code",
   "execution_count": 17,
   "id": "756e0237-ceec-48cc-99d9-ab1fd46ac253",
   "metadata": {},
   "outputs": [],
   "source": [
    "# Rosenbrock function definition\n",
    "def rosenbrock(x, y):\n",
    "    return (x - 1)**2 + 10 * (y - x**2)**2\n",
    "\n",
    "# Gradient of the Rosenbrock function\n",
    "def rosenbrock_grad(x, y):\n",
    "    dx = 2 * (x - 1) - 40 * x * (y - x**2)\n",
    "    dy = 20 * (y - x**2)\n",
    "    return np.array([dx, dy])\n",
    "\n",
    "# Hessian matrix of the Rosenbrock function\n",
    "def rosenbrock_hessian(x, y):\n",
    "    hxx = -40 * (y - 3*x**2) + 2\n",
    "    hxy = -40 * x\n",
    "    hyx = -40 * x\n",
    "    hyy = 20\n",
    "    return np.array([[hxx, hxy], [hyx, hyy]])"
   ]
  },
  {
   "cell_type": "code",
   "execution_count": 23,
   "id": "39309a75-df6f-4ae8-a7d8-3449d575e688",
   "metadata": {},
   "outputs": [],
   "source": [
    "# Gradient descent method for a multivariable function with corrected data types\n",
    "def gradient_descent_multi(x0, y0, learning_rate, iterations):\n",
    "    point = np.array([x0, y0], dtype=float)  # Ensure point is floating point\n",
    "    trajectory = [point.copy()]\n",
    "    for _ in range(iterations):\n",
    "        grad = rosenbrock_grad(point[0], point[1])\n",
    "        point -= learning_rate * grad\n",
    "        trajectory.append(point.copy())\n",
    "    return trajectory\n",
    "\n",
    "# Newton's method for a multivariable function with corrected data types\n",
    "def newtons_method_multi(x0, y0, iterations):\n",
    "    point = np.array([x0, y0], dtype=float)  # Ensure point is floating point\n",
    "    trajectory = [point.copy()]\n",
    "    for _ in range(iterations):\n",
    "        grad = rosenbrock_grad(point[0], point[1])\n",
    "        hessian = rosenbrock_hessian(point[0], point[1])\n",
    "        point -= np.linalg.inv(hessian).dot(grad)\n",
    "        trajectory.append(point.copy())\n",
    "    return trajectory"
   ]
  },
  {
   "cell_type": "code",
   "execution_count": 57,
   "id": "01123842-96f2-4c2a-8268-1e320a0415e2",
   "metadata": {},
   "outputs": [],
   "source": [
    "x0, y0 = 0, 0  # Initial values\n",
    "learning_rate = 0.05  # Learning rate for gradient descent\n",
    "iterations = 10      # Number of iterations\n",
    "\n",
    "# Perform iterations with corrected data types\n",
    "gd_trajectory = gradient_descent_multi(x0, y0, learning_rate, iterations)\n",
    "newton_trajectory = newtons_method_multi(x0, y0, iterations)"
   ]
  },
  {
   "cell_type": "code",
   "execution_count": 58,
   "id": "07a7c57e-232d-4df1-bb5e-382b4bc47e52",
   "metadata": {},
   "outputs": [
    {
     "data": {
      "text/plain": [
       "([array([0., 0.]),\n",
       "  array([0.1, 0. ]),\n",
       "  array([0.188, 0.01 ]),\n",
       "  array([0.25967066, 0.035344  ]),\n",
       "  array([0.3170406 , 0.06742885]),\n",
       "  array([0.3643574 , 0.10051474]),\n",
       "  array([0.40442675, 0.13275631]),\n",
       "  array([0.4390676, 0.163561 ]),\n",
       "  array([0.46950229, 0.19278036]),\n",
       "  array([0.49658667, 0.2204324 ]),\n",
       "  array([0.52094071, 0.24659832])],\n",
       " [array([0., 0.]),\n",
       "  array([1., 0.]),\n",
       "  array([1., 1.]),\n",
       "  array([1., 1.]),\n",
       "  array([1., 1.]),\n",
       "  array([1., 1.]),\n",
       "  array([1., 1.]),\n",
       "  array([1., 1.]),\n",
       "  array([1., 1.]),\n",
       "  array([1., 1.]),\n",
       "  array([1., 1.])])"
      ]
     },
     "execution_count": 58,
     "metadata": {},
     "output_type": "execute_result"
    }
   ],
   "source": [
    "gd_trajectory, newton_trajectory"
   ]
  },
  {
   "cell_type": "markdown",
   "id": "3092caf8-b184-496f-999f-94020d043486",
   "metadata": {},
   "source": [
    "## Quasi-Newton methods"
   ]
  },
  {
   "cell_type": "markdown",
   "id": "7881e377-6b63-4cb9-8d56-24bbd54a9012",
   "metadata": {},
   "source": [
    "- 牛顿法的性能问题\n",
    "    - hessian 矩阵（对称的）的计算 $\\frac{n(n+1)}{2}(O(n^2))$，\n",
    "        - $n$ 是多元变量函数的变量的数量；\n",
    "    - 求逆是 $O(n^3)$ 的时间复杂度；\n",
    "- 拟牛顿法的关键在于不需要计算hessian，更不需要计算其 inv；\n",
    "- scipy.optimize\n",
    "    - https://docs.scipy.org/doc/scipy/tutorial/optimize.html"
   ]
  },
  {
   "cell_type": "code",
   "execution_count": 70,
   "id": "234db241-d09a-47ad-b49b-44767f549520",
   "metadata": {},
   "outputs": [
    {
     "data": {
      "text/html": [
       "<img src=\"../../imgs/bfgs.png\" width=\"500\"/>"
      ],
      "text/plain": [
       "<IPython.core.display.Image object>"
      ]
     },
     "execution_count": 70,
     "metadata": {},
     "output_type": "execute_result"
    }
   ],
   "source": [
    "Image(url='../../imgs/bfgs.png', width=500)"
   ]
  },
  {
   "cell_type": "markdown",
   "id": "eb738ec3-2213-46bc-bd1d-84780dd061fc",
   "metadata": {},
   "source": [
    "- $B_k$ 近似 $H^{-1}$ （inverse hessian）\n",
    "    - $B$: positive definite\n",
    "- approx newton direction: $s_k=x_{k+1}-x_k=-B_k^{-1}g_k$\n",
    "- update $B_k$\n",
    "    - $B_{k+1}=\\text{update}(B_k, x^{k+1}-x^k, g^{k+1}-g^k)$"
   ]
  },
  {
   "cell_type": "code",
   "execution_count": 19,
   "id": "e1a67fbf-ab05-4fdb-81db-af890cc3ce7f",
   "metadata": {
    "scrolled": true
   },
   "outputs": [
    {
     "data": {
      "text/html": [
       "<img src=\"../../imgs/bk_types.png\" width=\"500\"/>"
      ],
      "text/plain": [
       "<IPython.core.display.Image object>"
      ]
     },
     "execution_count": 19,
     "metadata": {},
     "output_type": "execute_result"
    }
   ],
   "source": [
    "Image(url='../../imgs/bk_types.png', width=500)"
   ]
  },
  {
   "cell_type": "code",
   "execution_count": 69,
   "id": "99042a40-ffa6-497f-931b-9b55b9be4b10",
   "metadata": {},
   "outputs": [
    {
     "data": {
      "text/html": [
       "<img src=\"https://miro.medium.com/v2/resize:fit:1320/format:webp/1*UyPDBKccaqfRTc00l1rKEg.jpeg\" width=\"400\"/>"
      ],
      "text/plain": [
       "<IPython.core.display.Image object>"
      ]
     },
     "execution_count": 69,
     "metadata": {},
     "output_type": "execute_result"
    }
   ],
   "source": [
    "Image(url='https://miro.medium.com/v2/resize:fit:1320/format:webp/1*UyPDBKccaqfRTc00l1rKEg.jpeg', width=400)"
   ]
  },
  {
   "cell_type": "code",
   "execution_count": 67,
   "id": "a6fef187-854c-4e79-aab7-f61be44be0b2",
   "metadata": {},
   "outputs": [],
   "source": [
    "from scipy.optimize import rosen, rosen_der"
   ]
  },
  {
   "cell_type": "code",
   "execution_count": 66,
   "id": "66e0d6b5-4885-4bcc-a33a-bdb00e0cadc7",
   "metadata": {},
   "outputs": [
    {
     "name": "stdout",
     "output_type": "stream",
     "text": [
      "Optimization terminated successfully.\n",
      "         Current function value: 0.000000\n",
      "         Iterations: 19\n",
      "         Function evaluations: 24\n",
      "         Gradient evaluations: 24\n"
     ]
    }
   ],
   "source": [
    "x0 = [0, 0]\n",
    "res = sp.optimize.minimize(rosen, x0, method='BFGS', jac=rosen_der, \n",
    "               options={'disp': True})"
   ]
  },
  {
   "cell_type": "code",
   "execution_count": 68,
   "id": "558c67be-8793-4c7a-8d90-ae52c365d90a",
   "metadata": {},
   "outputs": [
    {
     "data": {
      "text/plain": [
       "array([0.99999913, 0.99999825])"
      ]
     },
     "execution_count": 68,
     "metadata": {},
     "output_type": "execute_result"
    }
   ],
   "source": [
    "res.x"
   ]
  }
 ],
 "metadata": {
  "kernelspec": {
   "display_name": "Python 3 (ipykernel)",
   "language": "python",
   "name": "python3"
  },
  "language_info": {
   "codemirror_mode": {
    "name": "ipython",
    "version": 3
   },
   "file_extension": ".py",
   "mimetype": "text/x-python",
   "name": "python",
   "nbconvert_exporter": "python",
   "pygments_lexer": "ipython3",
   "version": "3.10.13"
  }
 },
 "nbformat": 4,
 "nbformat_minor": 5
}
