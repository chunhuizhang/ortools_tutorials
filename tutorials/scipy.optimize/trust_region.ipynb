{
 "cells": [
  {
   "cell_type": "code",
   "execution_count": 1,
   "id": "5095074d-36f2-43b1-8a67-ad18052db76a",
   "metadata": {},
   "outputs": [],
   "source": [
    "import numpy as np\n",
    "from scipy.optimize import minimize\n",
    "from IPython.display import Image"
   ]
  },
  {
   "cell_type": "markdown",
   "id": "764a7189-5104-4b87-9d47-5d55f21777e5",
   "metadata": {},
   "source": [
    "## trust region vs. gradient methods"
   ]
  },
  {
   "cell_type": "markdown",
   "id": "953f7a9c-dec1-4487-abdb-c6cd7b0a2df5",
   "metadata": {},
   "source": []
  },
  {
   "cell_type": "markdown",
   "id": "256c6d38-7eb3-4d64-9f0b-c9691429c438",
   "metadata": {},
   "source": [
    "## trust-ncg"
   ]
  },
  {
   "cell_type": "markdown",
   "id": "176df9a3-fa81-4fe3-8315-dad8bd4fbcd9",
   "metadata": {},
   "source": [
    "- https://docs.scipy.org/doc/scipy/tutorial/optimize.html#trust-region-newton-conjugate-gradient-algorithm-method-trust-ncg"
   ]
  },
  {
   "cell_type": "code",
   "execution_count": 19,
   "id": "007cc45e-ee23-415a-ab97-d04f7bfeb838",
   "metadata": {},
   "outputs": [
    {
     "data": {
      "text/html": [
       "<img src=\"../../imgs/trust-ncg.png\" width=\"500\"/>"
      ],
      "text/plain": [
       "<IPython.core.display.Image object>"
      ]
     },
     "execution_count": 19,
     "metadata": {},
     "output_type": "execute_result"
    }
   ],
   "source": [
    "Image(url='../../imgs/trust-ncg.png', width=500)"
   ]
  },
  {
   "cell_type": "code",
   "execution_count": 2,
   "id": "7904661b-b60f-4418-bfec-86404fc4048d",
   "metadata": {},
   "outputs": [],
   "source": [
    "from scipy.optimize import rosen_der, rosen_hess, rosen"
   ]
  },
  {
   "cell_type": "markdown",
   "id": "0735ac44-c8fe-4d6b-9875-2e928cf11223",
   "metadata": {},
   "source": [
    "## trust-ncg"
   ]
  },
  {
   "cell_type": "code",
   "execution_count": 11,
   "id": "1cb04311-4678-4ac8-adc6-a553404d4545",
   "metadata": {},
   "outputs": [],
   "source": [
    "def rosen_callback(xk):\n",
    "    print(f\"At iteration {rosen_callback.iteration}: x = {xk}, f(x) = {rosen(xk)}\")\n",
    "    rosen_callback.iteration += 1\n",
    "rosen_callback.iteration = 0"
   ]
  },
  {
   "cell_type": "code",
   "execution_count": 12,
   "id": "3ac189a2-21eb-4d7f-96da-02d601c6f019",
   "metadata": {},
   "outputs": [
    {
     "name": "stdout",
     "output_type": "stream",
     "text": [
      "At iteration 0: x = [1.17182762 0.77097477 0.88495088 1.38139178 1.31986629], f(x) = 115.35713831787174\n",
      "At iteration 1: x = [1.02230556 0.88234359 0.96636883 1.14568022 1.38212416], f(x) = 11.184281637491322\n",
      "At iteration 2: x = [0.9525087  0.98617884 1.01287162 1.13437805 1.36754899], f(x) = 2.6342555416888764\n",
      "At iteration 3: x = [1.01693959 1.03897616 1.08083267 1.16529887 1.33033595], f(x) = 0.11509992633210457\n",
      "At iteration 4: x = [1.01835916 1.03862601 1.07958652 1.15598973 1.3344093 ], f(x) = 0.042233556159392144\n",
      "At iteration 5: x = [1.01884444 1.03859274 1.07601568 1.15656231 1.33471556], f(x) = 0.03388062703252163\n",
      "At iteration 6: x = [1.01857518 1.03686081 1.07458026 1.15518694 1.33534381], f(x) = 0.031514452913369996\n",
      "At iteration 7: x = [1.01857518 1.03686081 1.07458026 1.15518694 1.33534381], f(x) = 0.031514452913369996\n",
      "At iteration 8: x = [1.00788364 1.01367297 1.02930213 1.05892939 1.1105497 ], f(x) = 0.01701150089310485\n",
      "At iteration 9: x = [1.00714813 1.01460472 1.02877689 1.05512532 1.11234151], f(x) = 0.005330021072222469\n",
      "At iteration 10: x = [1.00712032 1.01357289 1.02705335 1.0547607  1.11285286], f(x) = 0.0040364876421243\n",
      "At iteration 11: x = [1.00663715 1.01339029 1.02704325 1.05476004 1.11271676], f(x) = 0.003958818257708254\n",
      "At iteration 12: x = [0.99993388 0.99982298 0.99946223 0.99816002 0.99311986], f(x) = 0.0010920494841770542\n",
      "At iteration 13: x = [0.99991601 0.99975847 0.99919298 0.99703192 0.99376381], f(x) = 0.00021362318340864789\n",
      "At iteration 14: x = [0.99979907 0.99930133 0.99852814 0.99701628 0.99401345], f(x) = 2.1228340145938228e-05\n",
      "At iteration 15: x = [0.99964289 0.99928165 0.99854594 0.99702343 0.9940272 ], f(x) = 1.2230870712233273e-05\n",
      "At iteration 16: x = [0.99999777 0.99999541 0.9999903  0.99997855 0.99994837], f(x) = 8.651971162001416e-09\n",
      "At iteration 17: x = [0.99999696 0.99999391 0.99998779 0.99997552 0.99995092], f(x) = 7.965338433263731e-10\n",
      "At iteration 18: x = [1. 1. 1. 1. 1.], f(x) = 3.862920788432733e-17\n",
      "At iteration 19: x = [1. 1. 1. 1. 1.], f(x) = 1.232595164407831e-30\n",
      "Optimization terminated successfully.\n",
      "         Current function value: 0.000000\n",
      "         Iterations: 20\n",
      "         Function evaluations: 21\n",
      "         Gradient evaluations: 20\n",
      "         Hessian evaluations: 19\n"
     ]
    }
   ],
   "source": [
    "x0 = np.array([1.3, 0.7, 0.8, 1.9, 1.2])\n",
    "res = minimize(rosen, x0, method='trust-ncg',\n",
    "               jac=rosen_der, hess=rosen_hess,\n",
    "               options={'gtol': 1e-8, 'disp': True}, callback=rosen_callback)"
   ]
  },
  {
   "cell_type": "code",
   "execution_count": 7,
   "id": "46f91cba-ffe9-4301-bfa1-dbfd7b734aef",
   "metadata": {},
   "outputs": [
    {
     "data": {
      "text/plain": [
       " message: Optimization terminated successfully.\n",
       " success: True\n",
       "  status: 0\n",
       "     fun: 1.232595164407831e-30\n",
       "       x: [ 1.000e+00  1.000e+00  1.000e+00  1.000e+00  1.000e+00]\n",
       "     nit: 20\n",
       "     jac: [-0.000e+00  0.000e+00  0.000e+00  4.441e-14 -2.220e-14]\n",
       "    nfev: 21\n",
       "    njev: 20\n",
       "    nhev: 19\n",
       "    hess: [[ 8.020e+02 -4.000e+02 ...  0.000e+00  0.000e+00]\n",
       "           [-4.000e+02  1.002e+03 ...  0.000e+00  0.000e+00]\n",
       "           ...\n",
       "           [ 0.000e+00  0.000e+00 ...  1.002e+03 -4.000e+02]\n",
       "           [ 0.000e+00  0.000e+00 ... -4.000e+02  2.000e+02]]"
      ]
     },
     "execution_count": 7,
     "metadata": {},
     "output_type": "execute_result"
    }
   ],
   "source": [
    "res"
   ]
  },
  {
   "cell_type": "markdown",
   "id": "4160f7fc-3015-4b87-91a1-aab43f4dca2e",
   "metadata": {},
   "source": [
    "## dogleg"
   ]
  },
  {
   "cell_type": "code",
   "execution_count": 7,
   "id": "93c2bb09-ab63-4fec-b473-b4549c57c838",
   "metadata": {},
   "outputs": [
    {
     "name": "stdout",
     "output_type": "stream",
     "text": [
      "Optimization terminated successfully.\n",
      "         Current function value: 0.000000\n",
      "         Iterations: 32\n",
      "         Function evaluations: 33\n",
      "         Gradient evaluations: 31\n",
      "         Hessian evaluations: 30\n"
     ]
    },
    {
     "data": {
      "text/plain": [
       " message: Optimization terminated successfully.\n",
       " success: True\n",
       "  status: 0\n",
       "     fun: 2.7861938468014046e-18\n",
       "       x: [ 1.000e+00  1.000e+00]\n",
       "     nit: 32\n",
       "     jac: [ 1.051e-08 -3.598e-09]\n",
       "    nfev: 33\n",
       "    njev: 31\n",
       "    nhev: 30\n",
       "    hess: [[ 8.020e+02 -4.000e+02]\n",
       "           [-4.000e+02  2.000e+02]]"
      ]
     },
     "execution_count": 7,
     "metadata": {},
     "output_type": "execute_result"
    }
   ],
   "source": [
    "import scipy.optimize as so\n",
    "x_iter = []\n",
    "\n",
    "def callback(xk):\n",
    "    x_iter.append(xk.copy())\n",
    "\n",
    "x0 = np.array([10., 10])\n",
    "rmax = 2.\n",
    "r =.25\n",
    "eta = 1./16\n",
    "tol = 1e-5\n",
    "opts = {'initial_trust_radius': r, \n",
    "        'max_trust_radius': \n",
    "        rmax, 'eta': eta, \n",
    "        'gtol': tol, \n",
    "        'disp': True}\n",
    "sol1 = so.minimize(so.rosen, x0, method='dogleg', jac=so.rosen_der, hess=so.rosen_hess, options=opts, callback=callback)\n",
    "sol1"
   ]
  }
 ],
 "metadata": {
  "kernelspec": {
   "display_name": "Python 3 (ipykernel)",
   "language": "python",
   "name": "python3"
  },
  "language_info": {
   "codemirror_mode": {
    "name": "ipython",
    "version": 3
   },
   "file_extension": ".py",
   "mimetype": "text/x-python",
   "name": "python",
   "nbconvert_exporter": "python",
   "pygments_lexer": "ipython3",
   "version": "3.10.13"
  }
 },
 "nbformat": 4,
 "nbformat_minor": 5
}
