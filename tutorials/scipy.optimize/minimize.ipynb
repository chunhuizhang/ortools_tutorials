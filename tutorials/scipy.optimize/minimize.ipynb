{
 "cells": [
  {
   "cell_type": "markdown",
   "id": "b5077686-d320-4a5f-b483-892d8c4ff844",
   "metadata": {},
   "source": [
    "- references\n",
    "    - https://docs.scipy.org/doc/scipy/tutorial/optimize.html"
   ]
  },
  {
   "cell_type": "markdown",
   "id": "1435d545",
   "metadata": {},
   "source": [
    "## 参数"
   ]
  },
  {
   "cell_type": "markdown",
   "id": "a8c152ef",
   "metadata": {},
   "source": [
    "### method"
   ]
  },
  {
   "cell_type": "markdown",
   "id": "dfb816e2",
   "metadata": {},
   "source": [
    "- SLSQP\n",
    "- BFGS"
   ]
  },
  {
   "cell_type": "markdown",
   "id": "9f96fffd",
   "metadata": {},
   "source": [
    "### bounds & constraints"
   ]
  },
  {
   "cell_type": "markdown",
   "id": "d58456f0",
   "metadata": {},
   "source": [
    "- bounds：决策变量的最小最大；\n",
    "    - `(0, None)`: `x >= 0`\n",
    "- constraints\n",
    "    - type: `ineq`, `>= 0`\n",
    "    - type: `eq`, `=0`"
   ]
  },
  {
   "cell_type": "markdown",
   "id": "5ae67e9c",
   "metadata": {},
   "source": [
    "## L-BFGS-B"
   ]
  },
  {
   "cell_type": "markdown",
   "id": "27b00b5a",
   "metadata": {},
   "source": [
    "$$\n",
    "\\begin{split}\n",
    "&s_k=x_{k+1}-x_k\\\\\n",
    "&y_k=\\nabla f_{k+1}-\\nabla f_k\\\\\n",
    "&H_{k+1}=\\left(I-\\rho_ks_ky_k^T\\right)H_k\\left(I-\\rho_ks_ky_k^T\\right)+\\rho_ks_ks_k^T, \\quad \\rho_k=\\frac{1}{y_k^Ts_k}\n",
    "\\end{split}\n",
    "$$"
   ]
  },
  {
   "cell_type": "markdown",
   "id": "3289aa4c",
   "metadata": {},
   "source": [
    "L-BFGS-B算法是一种优化算法，用于解决**有界约束**的优化问题。它是限制性Broyden-Fletcher-Goldfarb-Shanno（BFGS）算法的变种，专门设计来处理变量的边界约束问题。L-BFGS-B算法在机器学习和统计建模中广泛应用，特别是在最大似然估计（MLE）中优化参数时。\n",
    "\n",
    "算法原理\n",
    "L-BFGS-B算法基于几个关键概念：\n",
    "\n",
    "- 拟牛顿方法（Quasi-Newton Methods）：这些方法是用来求解无约束优化问题的，它们通过构造目标函数的海森矩阵（Hessian Matrix）的近似来迭代寻找最优解。\n",
    "- BFGS：是拟牛顿方法中的一种，通过迭代更新逆海森矩阵（$H_k$）的估计来优化目标函数。它不需要计算真正的海森矩阵，而是利用梯度信息来构造近似。\n",
    "- 有限内存（Limited Memory）：L-BFGS通过只保留最近几步的更新信息来减少存储需求，使得算法能够处理大规模优化问题。\n",
    "- 边界约束（Bound Constraints）：L-BFGS-B扩展了L-BFGS算法，允许对参数施加上下界约束。这通过特别的技术处理被约束的变量来实现，保证算法迭代不会超出指定的边界。\n",
    "\n",
    "算法步骤\n",
    "L-BFGS-B算法的实现步骤大致如下：\n",
    "\n",
    "- 初始化：选择初始参数值，设置边界约束，确定内存限制（即保留多少步的历史信息）。\n",
    "- 迭代优化：\n",
    "    - 计算当前参数下的目标函数值和梯度。\n",
    "    - 使用有限内存BFGS方法更新逆海森矩阵的近似。\n",
    "    - 根据更新的逆海森矩阵和梯度，通过求解一个有界约束的二次近似问题来确定搜索方向和步长。\n",
    "    - 检查边界约束，调整步长以确保新的参数值在约束内。\n",
    "    - 更新参数值。\n",
    "- 终止条件：当满足一定的终止条件（如梯度的范数小于某个阈值，或达到最大迭代次数）时，停止迭代。\n"
   ]
  },
  {
   "cell_type": "markdown",
   "id": "5a253e35-e317-42f8-ba4d-07b147c76c03",
   "metadata": {},
   "source": [
    "## 一个示例（with callback）"
   ]
  },
  {
   "cell_type": "code",
   "execution_count": 3,
   "id": "3176ced5-6c4d-4020-b4f7-1f2b51ccc0a9",
   "metadata": {},
   "outputs": [
    {
     "name": "stdout",
     "output_type": "stream",
     "text": [
      "Optimization terminated successfully.\n",
      "         Current function value: 0.000000\n",
      "         Iterations: 32\n",
      "         Function evaluations: 33\n",
      "         Gradient evaluations: 31\n",
      "         Hessian evaluations: 30\n"
     ]
    }
   ],
   "source": [
    "from scipy import optimize as op\n",
    "import numpy as np\n",
    "import matplotlib.pyplot as plt\n",
    "from matplotlib.colors import LogNorm\n",
    "\n",
    "x_iter = []\n",
    "\n",
    "def callback(xk):\n",
    "    x_iter.append(xk.copy())\n",
    "\n",
    "x0 = np.array([10., 10])\n",
    "rmax = 2.\n",
    "r =.25\n",
    "eta = 1./16\n",
    "tol = 1e-5\n",
    "opts = {'initial_trust_radius': r, \n",
    "        'max_trust_radius': \n",
    "        rmax, 'eta': eta, \n",
    "        'gtol': tol, \n",
    "        'disp': True}\n",
    "sol1 = op.minimize(op.rosen, x0, method='dogleg', jac=op.rosen_der, hess=op.rosen_hess, options=opts, callback=callback)"
   ]
  },
  {
   "cell_type": "code",
   "execution_count": 4,
   "id": "cc18a1f4-de88-41ef-adaa-e4608ce03864",
   "metadata": {},
   "outputs": [
    {
     "data": {
      "text/plain": [
       " message: Optimization terminated successfully.\n",
       " success: True\n",
       "  status: 0\n",
       "     fun: 2.7861938468014046e-18\n",
       "       x: [ 1.000e+00  1.000e+00]\n",
       "     nit: 32\n",
       "     jac: [ 1.051e-08 -3.598e-09]\n",
       "    nfev: 33\n",
       "    njev: 31\n",
       "    nhev: 30\n",
       "    hess: [[ 8.020e+02 -4.000e+02]\n",
       "           [-4.000e+02  2.000e+02]]"
      ]
     },
     "execution_count": 4,
     "metadata": {},
     "output_type": "execute_result"
    }
   ],
   "source": [
    "sol1"
   ]
  },
  {
   "cell_type": "code",
   "execution_count": null,
   "id": "cb56bb96-338e-421b-825d-cd468e1d4847",
   "metadata": {},
   "outputs": [],
   "source": []
  }
 ],
 "metadata": {
  "kernelspec": {
   "display_name": "Python 3 (ipykernel)",
   "language": "python",
   "name": "python3"
  },
  "language_info": {
   "codemirror_mode": {
    "name": "ipython",
    "version": 3
   },
   "file_extension": ".py",
   "mimetype": "text/x-python",
   "name": "python",
   "nbconvert_exporter": "python",
   "pygments_lexer": "ipython3",
   "version": "3.10.13"
  },
  "toc": {
   "base_numbering": 1,
   "nav_menu": {},
   "number_sections": true,
   "sideBar": true,
   "skip_h1_title": false,
   "title_cell": "Table of Contents",
   "title_sidebar": "Contents",
   "toc_cell": false,
   "toc_position": {},
   "toc_section_display": true,
   "toc_window_display": false
  }
 },
 "nbformat": 4,
 "nbformat_minor": 5
}
