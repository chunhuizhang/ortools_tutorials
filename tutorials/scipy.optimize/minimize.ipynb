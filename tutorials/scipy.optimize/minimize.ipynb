{
 "cells": [
  {
   "cell_type": "markdown",
   "id": "1435d545",
   "metadata": {},
   "source": [
    "## 参数"
   ]
  },
  {
   "cell_type": "markdown",
   "id": "a8c152ef",
   "metadata": {},
   "source": [
    "### method"
   ]
  },
  {
   "cell_type": "markdown",
   "id": "dfb816e2",
   "metadata": {},
   "source": [
    "- SLSQP\n",
    "- BFGS"
   ]
  },
  {
   "cell_type": "markdown",
   "id": "9f96fffd",
   "metadata": {},
   "source": [
    "### bounds & constraints"
   ]
  },
  {
   "cell_type": "markdown",
   "id": "d58456f0",
   "metadata": {},
   "source": [
    "- bounds：决策变量的最小最大；\n",
    "    - `(0, None)`: `x >= 0`\n",
    "- constraints\n",
    "    - type: `ineq`, `>= 0`\n",
    "    - type: `eq`, `=0`"
   ]
  }
 ],
 "metadata": {
  "kernelspec": {
   "display_name": "Python 3 (ipykernel)",
   "language": "python",
   "name": "python3"
  },
  "language_info": {
   "codemirror_mode": {
    "name": "ipython",
    "version": 3
   },
   "file_extension": ".py",
   "mimetype": "text/x-python",
   "name": "python",
   "nbconvert_exporter": "python",
   "pygments_lexer": "ipython3",
   "version": "3.10.9"
  },
  "toc": {
   "base_numbering": 1,
   "nav_menu": {},
   "number_sections": true,
   "sideBar": true,
   "skip_h1_title": false,
   "title_cell": "Table of Contents",
   "title_sidebar": "Contents",
   "toc_cell": false,
   "toc_position": {},
   "toc_section_display": true,
   "toc_window_display": false
  }
 },
 "nbformat": 4,
 "nbformat_minor": 5
}
