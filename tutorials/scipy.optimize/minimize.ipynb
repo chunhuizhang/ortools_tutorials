{
 "cells": [
  {
   "cell_type": "markdown",
   "id": "b5077686-d320-4a5f-b483-892d8c4ff844",
   "metadata": {},
   "source": [
    "- references\n",
    "    - https://docs.scipy.org/doc/scipy/tutorial/optimize.html"
   ]
  },
  {
   "cell_type": "markdown",
   "id": "1435d545",
   "metadata": {},
   "source": [
    "## 参数"
   ]
  },
  {
   "cell_type": "markdown",
   "id": "a8c152ef",
   "metadata": {},
   "source": [
    "### method"
   ]
  },
  {
   "cell_type": "markdown",
   "id": "dfb816e2",
   "metadata": {},
   "source": [
    "- SLSQP\n",
    "- BFGS"
   ]
  },
  {
   "cell_type": "markdown",
   "id": "9f96fffd",
   "metadata": {},
   "source": [
    "### bounds & constraints"
   ]
  },
  {
   "cell_type": "markdown",
   "id": "d58456f0",
   "metadata": {},
   "source": [
    "- bounds：决策变量的最小最大；\n",
    "    - `(0, None)`: `x >= 0`\n",
    "- constraints\n",
    "    - type: `ineq`, `>= 0`\n",
    "    - type: `eq`, `=0`"
   ]
  },
  {
   "cell_type": "markdown",
   "id": "5ae67e9c",
   "metadata": {},
   "source": [
    "## L-BFGS-B"
   ]
  },
  {
   "cell_type": "markdown",
   "id": "27b00b5a",
   "metadata": {},
   "source": [
    "$$\n",
    "\\begin{split}\n",
    "&s_k=x_{k+1}-x_k\\\\\n",
    "&y_k=\\nabla f_{k+1}-\\nabla f_k\\\\\n",
    "&H_{k+1}=\\left(I-\\rho_ks_ky_k^T\\right)H_k\\left(I-\\rho_ks_ky_k^T\\right)+\\rho_ks_ks_k^T, \\quad \\rho_k=\\frac{1}{y_k^Ts_k}\n",
    "\\end{split}\n",
    "$$"
   ]
  },
  {
   "cell_type": "markdown",
   "id": "3289aa4c",
   "metadata": {},
   "source": [
    "L-BFGS-B算法是一种优化算法，用于解决**有界约束**的优化问题。它是限制性Broyden-Fletcher-Goldfarb-Shanno（BFGS）算法的变种，专门设计来处理变量的边界约束问题。L-BFGS-B算法在机器学习和统计建模中广泛应用，特别是在最大似然估计（MLE）中优化参数时。\n",
    "\n",
    "算法原理\n",
    "L-BFGS-B算法基于几个关键概念：\n",
    "\n",
    "- 拟牛顿方法（Quasi-Newton Methods）：这些方法是用来求解无约束优化问题的，它们通过构造目标函数的海森矩阵（Hessian Matrix）的近似来迭代寻找最优解。\n",
    "- BFGS：是拟牛顿方法中的一种，通过迭代更新逆海森矩阵（$H_k$）的估计来优化目标函数。它不需要计算真正的海森矩阵，而是利用梯度信息来构造近似。\n",
    "- 有限内存（Limited Memory）：L-BFGS通过只保留最近几步的更新信息来减少存储需求，使得算法能够处理大规模优化问题。\n",
    "- 边界约束（Bound Constraints）：L-BFGS-B扩展了L-BFGS算法，允许对参数施加上下界约束。这通过特别的技术处理被约束的变量来实现，保证算法迭代不会超出指定的边界。\n",
    "\n",
    "算法步骤\n",
    "L-BFGS-B算法的实现步骤大致如下：\n",
    "\n",
    "- 初始化：选择初始参数值，设置边界约束，确定内存限制（即保留多少步的历史信息）。\n",
    "- 迭代优化：\n",
    "    - 计算当前参数下的目标函数值和梯度。\n",
    "    - 使用有限内存BFGS方法更新逆海森矩阵的近似。\n",
    "    - 根据更新的逆海森矩阵和梯度，通过求解一个有界约束的二次近似问题来确定搜索方向和步长。\n",
    "    - 检查边界约束，调整步长以确保新的参数值在约束内。\n",
    "    - 更新参数值。\n",
    "- 终止条件：当满足一定的终止条件（如梯度的范数小于某个阈值，或达到最大迭代次数）时，停止迭代。\n"
   ]
  }
 ],
 "metadata": {
  "kernelspec": {
   "display_name": "Python 3 (ipykernel)",
   "language": "python",
   "name": "python3"
  },
  "language_info": {
   "codemirror_mode": {
    "name": "ipython",
    "version": 3
   },
   "file_extension": ".py",
   "mimetype": "text/x-python",
   "name": "python",
   "nbconvert_exporter": "python",
   "pygments_lexer": "ipython3",
   "version": "3.10.13"
  },
  "toc": {
   "base_numbering": 1,
   "nav_menu": {},
   "number_sections": true,
   "sideBar": true,
   "skip_h1_title": false,
   "title_cell": "Table of Contents",
   "title_sidebar": "Contents",
   "toc_cell": false,
   "toc_position": {},
   "toc_section_display": true,
   "toc_window_display": false
  }
 },
 "nbformat": 4,
 "nbformat_minor": 5
}
