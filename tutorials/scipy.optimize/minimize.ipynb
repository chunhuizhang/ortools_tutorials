{
 "cells": [
  {
   "cell_type": "markdown",
   "id": "9092c6b1",
   "metadata": {},
   "source": [
    "## 参数"
   ]
  },
  {
   "cell_type": "markdown",
   "id": "18f92b47",
   "metadata": {},
   "source": [
    "### method"
   ]
  },
  {
   "cell_type": "markdown",
   "id": "ecf0d373",
   "metadata": {},
   "source": [
    "- SLSQP\n",
    "- BFGS"
   ]
  },
  {
   "cell_type": "markdown",
   "id": "03a5d592",
   "metadata": {},
   "source": [
    "### bounds & constraints"
   ]
  },
  {
   "cell_type": "markdown",
   "id": "f48d7255",
   "metadata": {},
   "source": [
    "- bounds：决策变量的最小最大；\n",
    "- constraints\n",
    "    - type: `ineq`, `>= 0`\n",
    "    - type: `eq`, `=0`"
   ]
  }
 ],
 "metadata": {
  "kernelspec": {
   "display_name": "Python 3 (ipykernel)",
   "language": "python",
   "name": "python3"
  },
  "language_info": {
   "codemirror_mode": {
    "name": "ipython",
    "version": 3
   },
   "file_extension": ".py",
   "mimetype": "text/x-python",
   "name": "python",
   "nbconvert_exporter": "python",
   "pygments_lexer": "ipython3",
   "version": "3.10.9"
  },
  "toc": {
   "base_numbering": 1,
   "nav_menu": {},
   "number_sections": true,
   "sideBar": true,
   "skip_h1_title": false,
   "title_cell": "Table of Contents",
   "title_sidebar": "Contents",
   "toc_cell": false,
   "toc_position": {},
   "toc_section_display": true,
   "toc_window_display": false
  }
 },
 "nbformat": 4,
 "nbformat_minor": 5
}
