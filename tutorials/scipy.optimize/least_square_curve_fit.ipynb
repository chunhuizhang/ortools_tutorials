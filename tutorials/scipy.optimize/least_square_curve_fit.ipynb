{
 "cells": [
  {
   "cell_type": "markdown",
   "id": "c676bd28",
   "metadata": {},
   "source": [
    "## NLLS (Non-Linear Least Square)"
   ]
  },
  {
   "cell_type": "markdown",
   "id": "6c0725b3",
   "metadata": {},
   "source": [
    "- 对比经典的 OLS（Ordinary Least Square）应用在线性模型上，NNLS 对建模没有线性的要求；\n",
    "- 两者目标函数的是相同的，即最小化 squared error\n",
    "\n",
    "$$\n",
    "\\begin{split}\n",
    "S&=\\sum_{i=1}^mr_i^2\\\\\n",
    "&=\\sum_{i=1}^m\\left(y_i-f(x_i,\\beta)\\right)^2\n",
    "\\end{split}\n",
    "$$\n",
    "\n",
    "- 在优化方法上，依然是梯度方法\n",
    "\n",
    "$$\n",
    "\\frac{\\partial S}{\\partial \\beta_j}=2\\sum_i r_i\\frac{\\partial r_i}{\\partial \\beta_j}=0, \\quad j=1,\\cdots,n\n",
    "$$"
   ]
  },
  {
   "cell_type": "markdown",
   "id": "3b33bb31",
   "metadata": {},
   "source": [
    "- Iterative optimization procedures for estimating parameters\n",
    "    $$\n",
    "    \\beta_j\\approx \\beta_j^{k+1}=\\beta_j^k+\\Delta \\beta_j\n",
    "    $$\n",
    "- User provided starting values\n",
    "- Bad starting values may converge to local minima instead of global minima\n",
    "- String sensitivity to outliers"
   ]
  },
  {
   "cell_type": "markdown",
   "id": "215d874c",
   "metadata": {},
   "source": [
    "```\n",
    "def error(params, x, y):\n",
    "    return np.sum((func(x, params) - y)**2)\n",
    "```"
   ]
  },
  {
   "cell_type": "markdown",
   "id": "a4d94a34",
   "metadata": {},
   "source": [
    "## scipy api"
   ]
  },
  {
   "cell_type": "markdown",
   "id": "46d17f71",
   "metadata": {},
   "source": [
    "- `scipy.optimize.leastsq(func, x0, args=(),`\n",
    "    - Minimize the sum of squares of a set of equations.\n",
    "    - 第一个参数 `func` 是 error function\n",
    "    - A legacy wrapper for the MINPACK implementation of the Levenberg-Marquadt algorithm.\n",
    "- `scipy.optimize.least_squares(fun, x0, ...)`\n",
    "    - 第一个参数 `fun` 也是 error function\n",
    "    - Solve a **nonlinear least-squares** problem with **bounds** on the variables.\n",
    "    \n",
    "    ```\n",
    "    minimize F(x) = 0.5 * sum(rho(f_i(x)**2), i = 0, ..., m - 1)\n",
    "    subject to lb <= x <= ub\n",
    "    ```\n",
    "    \n",
    "- `scipy.optimize.curve_fit(f, xdata, ydata, ...)`\n",
    "    - https://docs.scipy.org/doc/scipy/reference/generated/scipy.optimize.curve_fit.html\n",
    "    - Use **non-linear least squares** to fit a function, f, to data.\n",
    "    - `ydata = f(xdata, *params) + eps.`\n",
    "    - method{‘lm’, ‘trf’, ‘dogbox’}, optional\n",
    "        - Default is ‘lm’ for unconstrained problems \n",
    "        - and ‘trf’ if bounds are provided. \n",
    "        - The method ‘lm’ won’t work when the number of observations is less than the number of variables, use ‘trf’ or ‘dogbox’ in this case.\n",
    "\n",
    "- In some cases, writing an explicit function to compute the Jacobian is faster than letting leastsq estimate it numerically. Create a function to compute the Jacobian of the residuals and use it as an input for leastsq."
   ]
  },
  {
   "cell_type": "markdown",
   "id": "1a5dc0fa",
   "metadata": {},
   "source": [
    "```\n",
    "# curve_fit\n",
    "\n",
    "if method == 'lm':\n",
    "    ...\n",
    "    res = leastsq(func, p0, Dfun=jac, full_output=1, **kwargs)\n",
    "    ...\n",
    "else:\n",
    "   ...\n",
    "    res = least_squares(func, p0, jac=jac, bounds=bounds, method=method,\n",
    "                        **kwargs)\n",
    "   ...\n",
    "```"
   ]
  },
  {
   "cell_type": "markdown",
   "id": "b349fe3a",
   "metadata": {},
   "source": [
    "## 分段线性拟合"
   ]
  },
  {
   "cell_type": "code",
   "execution_count": 2,
   "id": "36aa8e8e",
   "metadata": {
    "ExecuteTime": {
     "end_time": "2023-10-28T14:58:02.829807Z",
     "start_time": "2023-10-28T14:58:02.822411Z"
    }
   },
   "outputs": [],
   "source": [
    "\n",
    "from scipy import optimize\n",
    "import matplotlib.pyplot as plt\n",
    "import numpy as np\n",
    "\n",
    "x = np.array([1, 2, 3, 4, 5, 6, 7, 8, 9, 10 ,11, 12, 13, 14, 15], dtype=float)\n",
    "y = np.array([5, 7, 9, 11, 13, 15, 28.92, 42.81, 56.7, 70.59, 84.47, 90, 80, 70, 60])\n",
    "\n",
    "def piecewise_linear(x, y0, y1, b0, b1, b2):\n",
    "    x0 = 6\n",
    "    x1 = 12\n",
    "    return np.piecewise(x, \n",
    "                        [x < x0, \n",
    "                         (x >= x0) & (x < x1), \n",
    "                         x >= x1], \n",
    "                        [lambda x: b0*x + y0,          # (x0, b0x0+y0)\n",
    "                         lambda x: b1*x + y1-b1*x1,    # (x0, b1(x0-x1)+y1), (x1, y1)\n",
    "                         lambda x: b2*x + y1-b2*x1])   # (x1, y1)"
   ]
  },
  {
   "cell_type": "code",
   "execution_count": 3,
   "id": "add3686a",
   "metadata": {
    "ExecuteTime": {
     "end_time": "2023-10-28T14:58:10.786150Z",
     "start_time": "2023-10-28T14:58:10.772125Z"
    }
   },
   "outputs": [],
   "source": [
    "p, e = optimize.curve_fit(piecewise_linear, x, y)"
   ]
  },
  {
   "cell_type": "code",
   "execution_count": 4,
   "id": "a99291f7",
   "metadata": {
    "ExecuteTime": {
     "end_time": "2023-10-28T14:58:16.085737Z",
     "start_time": "2023-10-28T14:58:16.076260Z"
    }
   },
   "outputs": [
    {
     "data": {
      "text/plain": [
       "array([  3.        ,  93.74127658,   2.        ,  12.82392098,\n",
       "       -11.60340422])"
      ]
     },
     "execution_count": 4,
     "metadata": {},
     "output_type": "execute_result"
    }
   ],
   "source": [
    "p"
   ]
  },
  {
   "cell_type": "code",
   "execution_count": 5,
   "id": "560af566",
   "metadata": {
    "ExecuteTime": {
     "end_time": "2023-10-28T14:58:32.647228Z",
     "start_time": "2023-10-28T14:58:32.428448Z"
    }
   },
   "outputs": [
    {
     "data": {
      "text/plain": [
       "[<matplotlib.lines.Line2D at 0x7f4114297b80>]"
      ]
     },
     "execution_count": 5,
     "metadata": {},
     "output_type": "execute_result"
    },
    {
     "data": {
      "image/png": "[encoded data removed]",
      "text/plain": [
       "<Figure size 640x480 with 1 Axes>"
      ]
     },
     "metadata": {},
     "output_type": "display_data"
    }
   ],
   "source": [
    "new_x = np.linspace(0, 15, 100)\n",
    "plt.plot(x, y, \"o\")\n",
    "plt.plot(new_x, piecewise_linear(new_x, *p))"
   ]
  }
 ],
 "metadata": {
  "kernelspec": {
   "display_name": "Python 3 (ipykernel)",
   "language": "python",
   "name": "python3"
  },
  "language_info": {
   "codemirror_mode": {
    "name": "ipython",
    "version": 3
   },
   "file_extension": ".py",
   "mimetype": "text/x-python",
   "name": "python",
   "nbconvert_exporter": "python",
   "pygments_lexer": "ipython3",
   "version": "3.10.9"
  },
  "toc": {
   "base_numbering": 1,
   "nav_menu": {},
   "number_sections": true,
   "sideBar": true,
   "skip_h1_title": false,
   "title_cell": "Table of Contents",
   "title_sidebar": "Contents",
   "toc_cell": false,
   "toc_position": {},
   "toc_section_display": true,
   "toc_window_display": false
  }
 },
 "nbformat": 4,
 "nbformat_minor": 5
}
