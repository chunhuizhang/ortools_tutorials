{
 "cells": [
  {
   "cell_type": "markdown",
   "id": "c676bd28",
   "metadata": {},
   "source": [
    "## NLLS (Non-Linear Least Square)"
   ]
  },
  {
   "cell_type": "markdown",
   "id": "6c0725b3",
   "metadata": {},
   "source": [
    "- 对比经典的 OLS（Ordinary Least Square）应用在线性模型上，NNLS 对建模没有线性的要求；\n",
    "- 两者目标函数的是相同的，即最小化 squared error\n",
    "\n",
    "$$\n",
    "\\begin{split}\n",
    "S&=\\sum_{i=1}^mr_i^2\\\\\n",
    "&=\\sum_{i=1}^m\\left(y_i-f(x_i,\\beta)\\right)^2\n",
    "\\end{split}\n",
    "$$\n",
    "\n",
    "- 在优化方法上，依然是梯度方法\n",
    "\n",
    "$$\n",
    "\\frac{\\partial S}{\\partial \\beta_j}=2\\sum_i r_i\\frac{\\partial r_i}{\\partial \\beta_j}=0, \\quad j=1,\\cdots,n\n",
    "$$"
   ]
  },
  {
   "cell_type": "markdown",
   "id": "3b33bb31",
   "metadata": {},
   "source": [
    "- Iterative optimization procedures for estimating parameters\n",
    "    $$\n",
    "    \\beta_j\\approx \\beta_j^{k+1}=\\beta_j^k+\\Delta \\beta_j\n",
    "    $$\n",
    "- User provided starting values\n",
    "- Bad starting values may converge to local minima instead of global minima\n",
    "- String sensitivity to outliers"
   ]
  },
  {
   "cell_type": "markdown",
   "id": "215d874c",
   "metadata": {},
   "source": [
    "```\n",
    "# residuals^2\n",
    "def error(params, x, y):\n",
    "    return np.sum((func(x, params) - y)**2)\n",
    "```"
   ]
  },
  {
   "cell_type": "markdown",
   "id": "a4d94a34",
   "metadata": {},
   "source": [
    "## scipy api"
   ]
  },
  {
   "cell_type": "markdown",
   "id": "b21aa347",
   "metadata": {},
   "source": [
    "> scipy.optimize 几乎涵盖了一部大部头的《数值优化》的算法实现；"
   ]
  },
  {
   "cell_type": "markdown",
   "id": "46d17f71",
   "metadata": {},
   "source": [
    "- `scipy.optimize.leastsq(func, x0, args=(),`\n",
    "    - Minimize the sum of squares of a set of equations.\n",
    "    - 第一个参数 `func` 是 error function\n",
    "    - A legacy wrapper for the MINPACK implementation of the Levenberg-Marquadt algorithm.\n",
    "- `scipy.optimize.least_squares(fun, x0, ...)`\n",
    "    - 第一个参数 `fun` 也是 error function\n",
    "    - Solve a **nonlinear least-squares** problem with **bounds** on the variables.\n",
    "    \n",
    "    ```\n",
    "    minimize F(x) = 0.5 * sum(rho(f_i(x)**2), i = 0, ..., m - 1)\n",
    "    subject to lb <= x <= ub\n",
    "    ```\n",
    "    \n",
    "- `scipy.optimize.curve_fit(f, xdata, ydata, ...)`\n",
    "    - https://docs.scipy.org/doc/scipy/reference/generated/scipy.optimize.curve_fit.html\n",
    "    - Use **non-linear least squares** to fit a function, f, to data.\n",
    "    - `ydata = f(xdata, *params) + eps.`\n",
    "    - method{‘lm’, ‘trf’, ‘dogbox’}, optional\n",
    "        - Default is ‘lm’ for unconstrained problems: **Levenberg–Marquardt algorithm**\n",
    "        - and ‘trf’ if bounds are provided. \n",
    "        - The method ‘lm’ won’t work when the number of observations is less than the number of variables, use ‘trf’ or ‘dogbox’ in this case.\n",
    "    - 返回值方面\n",
    "        - popt\n",
    "        - pcov\n",
    "            - 方差越大，不确定性越高；\n",
    "            -  Covariance matrices with large condition numbers (e.g. computed with `numpy.linalg.cond`) may indicate that results are unreliable.\n",
    "            - `perr = np.sqrt(np.diag(pcov))`\n",
    "\n",
    "\n",
    "- In some cases, writing an explicit function to compute the Jacobian is faster than letting leastsq estimate it numerically. Create a function to compute the Jacobian of the residuals and use it as an input for leastsq."
   ]
  },
  {
   "cell_type": "markdown",
   "id": "1a5dc0fa",
   "metadata": {},
   "source": [
    "```\n",
    "# curve_fit\n",
    "\n",
    "if method == 'lm':\n",
    "    ...\n",
    "    res = leastsq(func, p0, Dfun=jac, full_output=1, **kwargs)\n",
    "    ...\n",
    "else:\n",
    "   ...\n",
    "    res = least_squares(func, p0, jac=jac, bounds=bounds, method=method,\n",
    "                        **kwargs)\n",
    "   ...\n",
    "```"
   ]
  },
  {
   "cell_type": "markdown",
   "id": "84fb67c7",
   "metadata": {},
   "source": [
    "## examples"
   ]
  },
  {
   "cell_type": "code",
   "execution_count": 1,
   "id": "616cc38b",
   "metadata": {
    "ExecuteTime": {
     "end_time": "2023-10-29T02:23:37.880456Z",
     "start_time": "2023-10-29T02:23:37.151436Z"
    }
   },
   "outputs": [],
   "source": [
    "import numpy as np\n",
    "import matplotlib.pyplot as plt\n",
    "from scipy.optimize import curve_fit"
   ]
  },
  {
   "cell_type": "markdown",
   "id": "27497cd8",
   "metadata": {},
   "source": [
    "$$\n",
    "f(x,\\beta)=a\\exp(-bx)+c, \\quad \\beta=(a,b,c)\n",
    "$$"
   ]
  },
  {
   "cell_type": "code",
   "execution_count": 2,
   "id": "da5cf11a",
   "metadata": {
    "ExecuteTime": {
     "end_time": "2023-10-29T02:23:48.571325Z",
     "start_time": "2023-10-29T02:23:48.565237Z"
    }
   },
   "outputs": [],
   "source": [
    "def func(x, a, b, c):\n",
    "    return a * np.exp(-b * x) + c"
   ]
  },
  {
   "cell_type": "code",
   "execution_count": 3,
   "id": "c62cab2c",
   "metadata": {
    "ExecuteTime": {
     "end_time": "2023-10-29T02:25:12.432251Z",
     "start_time": "2023-10-29T02:25:12.163343Z"
    },
    "scrolled": true
   },
   "outputs": [
    {
     "data": {
      "text/plain": [
       "[<matplotlib.lines.Line2D at 0x7fe4516ca740>]"
      ]
     },
     "execution_count": 3,
     "metadata": {},
     "output_type": "execute_result"
    },
    {
     "data": {
      "image/png": "[encoded data removed]",
      "text/plain": [
       "<Figure size 640x480 with 1 Axes>"
      ]
     },
     "metadata": {},
     "output_type": "display_data"
    }
   ],
   "source": [
    "xdata = np.linspace(0, 4, 50)\n",
    "y = func(xdata, 2.5, 1.3, 0.5)\n",
    "rng = np.random.default_rng()\n",
    "y_noise = 0.2 * rng.normal(size=xdata.size)\n",
    "ydata = y + y_noise\n",
    "# (xdata, ydata): samples or observations\n",
    "plt.plot(xdata, ydata, 'b-', label='data')"
   ]
  },
  {
   "cell_type": "code",
   "execution_count": 6,
   "id": "bc1ba30f",
   "metadata": {
    "ExecuteTime": {
     "end_time": "2023-10-29T02:28:43.663390Z",
     "start_time": "2023-10-29T02:28:43.652649Z"
    }
   },
   "outputs": [
    {
     "data": {
      "text/plain": [
       "50"
      ]
     },
     "execution_count": 6,
     "metadata": {},
     "output_type": "execute_result"
    }
   ],
   "source": [
    "len(xdata)"
   ]
  },
  {
   "cell_type": "code",
   "execution_count": 54,
   "id": "81e0de8e",
   "metadata": {
    "ExecuteTime": {
     "end_time": "2023-10-29T02:50:21.641020Z",
     "start_time": "2023-10-29T02:50:21.632284Z"
    }
   },
   "outputs": [],
   "source": [
    "popt, pcov, infodict, _, _ = curve_fit(func, xdata, ydata, full_output=True)"
   ]
  },
  {
   "cell_type": "code",
   "execution_count": 55,
   "id": "b1a43a29",
   "metadata": {
    "ExecuteTime": {
     "end_time": "2023-10-29T02:50:25.230932Z",
     "start_time": "2023-10-29T02:50:25.221181Z"
    }
   },
   "outputs": [
    {
     "data": {
      "text/plain": [
       "array([2.5387471 , 1.366168  , 0.50650488])"
      ]
     },
     "execution_count": 55,
     "metadata": {},
     "output_type": "execute_result"
    }
   ],
   "source": [
    "popt"
   ]
  },
  {
   "cell_type": "code",
   "execution_count": 56,
   "id": "e5e8126a",
   "metadata": {
    "ExecuteTime": {
     "end_time": "2023-10-29T02:50:28.731481Z",
     "start_time": "2023-10-29T02:50:28.722091Z"
    }
   },
   "outputs": [
    {
     "data": {
      "text/plain": [
       "array([[ 0.01493892,  0.0065579 , -0.00069432],\n",
       "       [ 0.0065579 ,  0.01942262,  0.00505906],\n",
       "       [-0.00069432,  0.00505906,  0.0025907 ]])"
      ]
     },
     "execution_count": 56,
     "metadata": {},
     "output_type": "execute_result"
    }
   ],
   "source": [
    "pcov"
   ]
  },
  {
   "cell_type": "code",
   "execution_count": 28,
   "id": "373051c5",
   "metadata": {
    "ExecuteTime": {
     "end_time": "2023-10-29T02:33:20.859912Z",
     "start_time": "2023-10-29T02:33:20.852799Z"
    }
   },
   "outputs": [
    {
     "data": {
      "text/plain": [
       "21"
      ]
     },
     "execution_count": 28,
     "metadata": {},
     "output_type": "execute_result"
    }
   ],
   "source": [
    "infodict['nfev']"
   ]
  },
  {
   "cell_type": "code",
   "execution_count": 18,
   "id": "ef9c47f3",
   "metadata": {
    "ExecuteTime": {
     "end_time": "2023-10-29T02:30:06.568486Z",
     "start_time": "2023-10-29T02:30:06.558622Z"
    }
   },
   "outputs": [
    {
     "data": {
      "text/plain": [
       "50"
      ]
     },
     "execution_count": 18,
     "metadata": {},
     "output_type": "execute_result"
    }
   ],
   "source": [
    "len(infodict['fvec'])"
   ]
  },
  {
   "cell_type": "code",
   "execution_count": 23,
   "id": "674a542b",
   "metadata": {
    "ExecuteTime": {
     "end_time": "2023-10-29T02:30:57.759919Z",
     "start_time": "2023-10-29T02:30:57.748710Z"
    }
   },
   "outputs": [
    {
     "data": {
      "text/plain": [
       "True"
      ]
     },
     "execution_count": 23,
     "metadata": {},
     "output_type": "execute_result"
    }
   ],
   "source": [
    "np.allclose(func(xdata, *popt) - ydata, infodict['fvec'])"
   ]
  },
  {
   "cell_type": "code",
   "execution_count": 27,
   "id": "eedcf414",
   "metadata": {
    "ExecuteTime": {
     "end_time": "2023-10-29T02:31:54.089350Z",
     "start_time": "2023-10-29T02:31:54.079968Z"
    }
   },
   "outputs": [
    {
     "data": {
      "text/plain": [
       "(3, 50)"
      ]
     },
     "execution_count": 27,
     "metadata": {},
     "output_type": "execute_result"
    }
   ],
   "source": [
    "# n*m\n",
    "infodict['fjac'].shape"
   ]
  },
  {
   "cell_type": "markdown",
   "id": "9d3a3ed2",
   "metadata": {},
   "source": [
    "### jac"
   ]
  },
  {
   "cell_type": "code",
   "execution_count": 33,
   "id": "ae8f0edd",
   "metadata": {
    "ExecuteTime": {
     "end_time": "2023-10-29T02:46:29.968681Z",
     "start_time": "2023-10-29T02:46:29.957300Z"
    }
   },
   "outputs": [
    {
     "data": {
      "text/plain": [
       "array([1., 1., 2., 2., 2.])"
      ]
     },
     "execution_count": 33,
     "metadata": {},
     "output_type": "execute_result"
    }
   ],
   "source": [
    "np.hstack([np.ones((2, )), 2*np.ones((3, ))])"
   ]
  },
  {
   "cell_type": "code",
   "execution_count": 51,
   "id": "233aa6ef",
   "metadata": {
    "ExecuteTime": {
     "end_time": "2023-10-29T02:50:10.016965Z",
     "start_time": "2023-10-29T02:50:10.008200Z"
    }
   },
   "outputs": [],
   "source": [
    "def jac(xdata, a, b, c):\n",
    "    # return m*n array, m: num of samples, n: num of parameters\n",
    "#     print(xdata.shape)\n",
    "#     print(np.exp(-b*xdata)[:, None].shape)\n",
    "#     print(((-a*xdata*np.exp(-b*xdata))[:, None]).shape)\n",
    "    return np.hstack([np.exp(-b*xdata)[:, None], \n",
    "                      (-a*(xdata*np.exp(-b*xdata)))[:, None], \n",
    "                      1*np.ones_like(xdata)[:, None]])"
   ]
  },
  {
   "cell_type": "code",
   "execution_count": 57,
   "id": "5b34e16c",
   "metadata": {
    "ExecuteTime": {
     "end_time": "2023-10-29T02:50:34.231714Z",
     "start_time": "2023-10-29T02:50:34.221246Z"
    }
   },
   "outputs": [],
   "source": [
    "popt, pcov, infodict, _, _ = curve_fit(func, xdata, ydata, full_output=True, jac=jac)"
   ]
  },
  {
   "cell_type": "code",
   "execution_count": 58,
   "id": "4ea87574",
   "metadata": {
    "ExecuteTime": {
     "end_time": "2023-10-29T02:50:35.266310Z",
     "start_time": "2023-10-29T02:50:35.255595Z"
    }
   },
   "outputs": [
    {
     "data": {
      "text/plain": [
       "array([2.5387471 , 1.36616799, 0.50650488])"
      ]
     },
     "execution_count": 58,
     "metadata": {},
     "output_type": "execute_result"
    }
   ],
   "source": [
    "popt"
   ]
  },
  {
   "cell_type": "code",
   "execution_count": 59,
   "id": "184fe2b4",
   "metadata": {
    "ExecuteTime": {
     "end_time": "2023-10-29T02:50:38.198761Z",
     "start_time": "2023-10-29T02:50:38.189110Z"
    }
   },
   "outputs": [
    {
     "data": {
      "text/plain": [
       "array([[ 0.01493892,  0.0065579 , -0.00069432],\n",
       "       [ 0.0065579 ,  0.01942262,  0.00505906],\n",
       "       [-0.00069432,  0.00505906,  0.0025907 ]])"
      ]
     },
     "execution_count": 59,
     "metadata": {},
     "output_type": "execute_result"
    }
   ],
   "source": [
    "pcov"
   ]
  },
  {
   "cell_type": "code",
   "execution_count": 61,
   "id": "9e50c83c",
   "metadata": {
    "ExecuteTime": {
     "end_time": "2023-10-29T02:51:16.986488Z",
     "start_time": "2023-10-29T02:51:16.976308Z"
    }
   },
   "outputs": [
    {
     "data": {
      "text/plain": [
       "6"
      ]
     },
     "execution_count": 61,
     "metadata": {},
     "output_type": "execute_result"
    }
   ],
   "source": [
    "infodict['nfev']"
   ]
  },
  {
   "cell_type": "markdown",
   "id": "c160d2cf",
   "metadata": {},
   "source": [
    "### bounds"
   ]
  },
  {
   "cell_type": "code",
   "execution_count": 66,
   "id": "660f78ac",
   "metadata": {
    "ExecuteTime": {
     "end_time": "2023-10-29T02:56:33.857969Z",
     "start_time": "2023-10-29T02:56:33.581451Z"
    }
   },
   "outputs": [
    {
     "data": {
      "text/plain": [
       "<matplotlib.legend.Legend at 0x7fe44c21da80>"
      ]
     },
     "execution_count": 66,
     "metadata": {},
     "output_type": "execute_result"
    },
    {
     "data": {
      "image/png": "[encoded data removed]",
      "text/plain": [
       "<Figure size 640x480 with 1 Axes>"
      ]
     },
     "metadata": {},
     "output_type": "display_data"
    }
   ],
   "source": [
    "plt.plot(xdata, ydata, 'b-', label='data')\n",
    "popt, pcov = curve_fit(func, xdata, ydata)\n",
    "plt.plot(xdata, func(xdata, *popt), 'r-',\n",
    "         label='fit: a=%5.3f, b=%5.3f, c=%5.3f' % tuple(popt))\n",
    "\n",
    "popt, pcov = curve_fit(func, xdata, ydata, bounds=(0, [3., 1., 0.5]))\n",
    "plt.plot(xdata, func(xdata, *popt), 'g--',\n",
    "         label='fit: a=%5.3f, b=%5.3f, c=%5.3f' % tuple(popt))\n",
    "\n",
    "plt.legend()"
   ]
  },
  {
   "cell_type": "markdown",
   "id": "b369d351",
   "metadata": {},
   "source": [
    "### pcov"
   ]
  },
  {
   "cell_type": "code",
   "execution_count": 69,
   "id": "c827eed3",
   "metadata": {
    "ExecuteTime": {
     "end_time": "2023-10-29T02:57:30.695744Z",
     "start_time": "2023-10-29T02:57:30.687381Z"
    }
   },
   "outputs": [],
   "source": [
    "popt, pcov = curve_fit(func, xdata, ydata)"
   ]
  },
  {
   "cell_type": "code",
   "execution_count": 71,
   "id": "8e64711a",
   "metadata": {
    "ExecuteTime": {
     "end_time": "2023-10-29T02:57:53.144064Z",
     "start_time": "2023-10-29T02:57:53.133619Z"
    }
   },
   "outputs": [
    {
     "data": {
      "text/plain": [
       "array([[ 0.01493892,  0.0065579 , -0.00069432],\n",
       "       [ 0.0065579 ,  0.01942262,  0.00505906],\n",
       "       [-0.00069432,  0.00505906,  0.0025907 ]])"
      ]
     },
     "execution_count": 71,
     "metadata": {},
     "output_type": "execute_result"
    }
   ],
   "source": [
    "pcov"
   ]
  },
  {
   "cell_type": "code",
   "execution_count": 70,
   "id": "30e5871c",
   "metadata": {
    "ExecuteTime": {
     "end_time": "2023-10-29T02:57:31.782186Z",
     "start_time": "2023-10-29T02:57:31.771784Z"
    },
    "scrolled": true
   },
   "outputs": [
    {
     "data": {
      "text/plain": [
       "34.755088022071746"
      ]
     },
     "execution_count": 70,
     "metadata": {},
     "output_type": "execute_result"
    }
   ],
   "source": [
    "np.linalg.cond(pcov)"
   ]
  },
  {
   "cell_type": "code",
   "execution_count": 75,
   "id": "6c7be514",
   "metadata": {
    "ExecuteTime": {
     "end_time": "2023-10-29T03:37:57.563488Z",
     "start_time": "2023-10-29T03:37:57.556130Z"
    }
   },
   "outputs": [],
   "source": [
    "# overparametered\n",
    "def func(x, a, b, c, d):\n",
    "    return a * d * np.exp(-b * x) + c  # a and d are redundant"
   ]
  },
  {
   "cell_type": "code",
   "execution_count": 73,
   "id": "29bd6cec",
   "metadata": {
    "ExecuteTime": {
     "end_time": "2023-10-29T02:58:43.282285Z",
     "start_time": "2023-10-29T02:58:43.268380Z"
    }
   },
   "outputs": [
    {
     "data": {
      "text/plain": [
       "array([[ 1.18968219e+28, -4.16750247e+12, -4.60753886e+12,\n",
       "        -2.70684190e+28],\n",
       "       [-4.16750247e+12,  2.13058405e-02,  6.78306728e-03,\n",
       "         9.48217134e+12],\n",
       "       [-4.60753886e+12,  6.78306728e-03,  4.43138755e-03,\n",
       "         1.04833706e+13],\n",
       "       [-2.70684190e+28,  9.48217134e+12,  1.04833706e+13,\n",
       "         6.15878188e+28]])"
      ]
     },
     "execution_count": 73,
     "metadata": {},
     "output_type": "execute_result"
    }
   ],
   "source": [
    "popt, pcov = curve_fit(func, xdata, ydata)\n",
    "pcov"
   ]
  },
  {
   "cell_type": "code",
   "execution_count": 74,
   "id": "96199b23",
   "metadata": {
    "ExecuteTime": {
     "end_time": "2023-10-29T02:59:25.219256Z",
     "start_time": "2023-10-29T02:59:25.208507Z"
    }
   },
   "outputs": [
    {
     "data": {
      "text/plain": [
       "6.05823456132018e+31"
      ]
     },
     "execution_count": 74,
     "metadata": {},
     "output_type": "execute_result"
    }
   ],
   "source": [
    "np.linalg.cond(pcov)"
   ]
  },
  {
   "cell_type": "markdown",
   "id": "b349fe3a",
   "metadata": {},
   "source": [
    "## 分段线性拟合"
   ]
  },
  {
   "cell_type": "code",
   "execution_count": 2,
   "id": "36aa8e8e",
   "metadata": {
    "ExecuteTime": {
     "end_time": "2023-10-28T14:58:02.829807Z",
     "start_time": "2023-10-28T14:58:02.822411Z"
    }
   },
   "outputs": [],
   "source": [
    "\n",
    "from scipy import optimize\n",
    "import matplotlib.pyplot as plt\n",
    "import numpy as np\n",
    "\n",
    "x = np.array([1, 2, 3, 4, 5, 6, 7, 8, 9, 10 ,11, 12, 13, 14, 15], dtype=float)\n",
    "y = np.array([5, 7, 9, 11, 13, 15, 28.92, 42.81, 56.7, 70.59, 84.47, 90, 80, 70, 60])\n",
    "\n",
    "def piecewise_linear(x, y0, y1, b0, b1, b2):\n",
    "    x0 = 6\n",
    "    x1 = 12\n",
    "    return np.piecewise(x, \n",
    "                        [x < x0, \n",
    "                         (x >= x0) & (x < x1), \n",
    "                         x >= x1], \n",
    "                        [lambda x: b0*x + y0,          # (x0, b0x0+y0)\n",
    "                         lambda x: b1*x + y1-b1*x1,    # (x0, b1(x0-x1)+y1), (x1, y1)\n",
    "                         lambda x: b2*x + y1-b2*x1])   # (x1, y1)"
   ]
  },
  {
   "cell_type": "code",
   "execution_count": 3,
   "id": "add3686a",
   "metadata": {
    "ExecuteTime": {
     "end_time": "2023-10-28T14:58:10.786150Z",
     "start_time": "2023-10-28T14:58:10.772125Z"
    }
   },
   "outputs": [],
   "source": [
    "p, e = optimize.curve_fit(piecewise_linear, x, y)"
   ]
  },
  {
   "cell_type": "code",
   "execution_count": 4,
   "id": "a99291f7",
   "metadata": {
    "ExecuteTime": {
     "end_time": "2023-10-28T14:58:16.085737Z",
     "start_time": "2023-10-28T14:58:16.076260Z"
    }
   },
   "outputs": [
    {
     "data": {
      "text/plain": [
       "array([  3.        ,  93.74127658,   2.        ,  12.82392098,\n",
       "       -11.60340422])"
      ]
     },
     "execution_count": 4,
     "metadata": {},
     "output_type": "execute_result"
    }
   ],
   "source": [
    "p"
   ]
  },
  {
   "cell_type": "code",
   "execution_count": 5,
   "id": "560af566",
   "metadata": {
    "ExecuteTime": {
     "end_time": "2023-10-28T14:58:32.647228Z",
     "start_time": "2023-10-28T14:58:32.428448Z"
    }
   },
   "outputs": [
    {
     "data": {
      "text/plain": [
       "[<matplotlib.lines.Line2D at 0x7f4114297b80>]"
      ]
     },
     "execution_count": 5,
     "metadata": {},
     "output_type": "execute_result"
    },
    {
     "data": {
      "image/png": "[encoded data removed]",
      "text/plain": [
       "<Figure size 640x480 with 1 Axes>"
      ]
     },
     "metadata": {},
     "output_type": "display_data"
    }
   ],
   "source": [
    "new_x = np.linspace(0, 15, 100)\n",
    "plt.plot(x, y, \"o\")\n",
    "plt.plot(new_x, piecewise_linear(new_x, *p))"
   ]
  }
 ],
 "metadata": {
  "kernelspec": {
   "display_name": "Python 3 (ipykernel)",
   "language": "python",
   "name": "python3"
  },
  "language_info": {
   "codemirror_mode": {
    "name": "ipython",
    "version": 3
   },
   "file_extension": ".py",
   "mimetype": "text/x-python",
   "name": "python",
   "nbconvert_exporter": "python",
   "pygments_lexer": "ipython3",
   "version": "3.10.9"
  },
  "toc": {
   "base_numbering": 1,
   "nav_menu": {},
   "number_sections": true,
   "sideBar": true,
   "skip_h1_title": false,
   "title_cell": "Table of Contents",
   "title_sidebar": "Contents",
   "toc_cell": false,
   "toc_position": {},
   "toc_section_display": true,
   "toc_window_display": false
  }
 },
 "nbformat": 4,
 "nbformat_minor": 5
}
