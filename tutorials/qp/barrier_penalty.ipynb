{
 "cells": [
  {
   "cell_type": "code",
   "execution_count": 1,
   "id": "8c71ef65-09b9-4edc-8889-b2d20d441fe8",
   "metadata": {
    "execution": {
     "iopub.execute_input": "2024-12-02T14:21:02.068262Z",
     "iopub.status.busy": "2024-12-02T14:21:02.067551Z",
     "iopub.status.idle": "2024-12-02T14:21:02.465009Z",
     "shell.execute_reply": "2024-12-02T14:21:02.464190Z",
     "shell.execute_reply.started": "2024-12-02T14:21:02.068219Z"
    }
   },
   "outputs": [],
   "source": [
    "import numpy as np\n",
    "from scipy.optimize import minimize\n",
    "import pandas as pd"
   ]
  },
  {
   "cell_type": "markdown",
   "id": "4d6130e5-fd46-42ef-9fc6-bf2cc6366eee",
   "metadata": {},
   "source": [
    "$$\n",
    "f(x) = \\frac{1}{2}x^T Q x + q^T x\n",
    "$$\n",
    "其中：\n",
    "- \\( Q \\) 是对称正定矩阵，表示二次项系数矩阵。\n",
    "- \\( q \\) 是线性项向量。\n",
    "\n",
    "约束条件\n",
    "该问题包含线性不等式约束：\n",
    "$$\n",
    "Gx \\geq h\n",
    "$$\n",
    "其中：\n",
    "- \\( G \\) 是约束矩阵。\n",
    "- \\( h \\) 是约束的右侧向量。"
   ]
  },
  {
   "cell_type": "markdown",
   "id": "2e9a7fb8-fa7b-4f1a-9bc7-dc165e5026d1",
   "metadata": {},
   "source": [
    "### 一个示例"
   ]
  },
  {
   "cell_type": "markdown",
   "id": "1b92ee50-f847-4909-9369-90c54e4c1d0c",
   "metadata": {},
   "source": [
    "- 二次项矩阵：\n",
    "  $$\n",
    "  Q = \\begin{bmatrix}\n",
    "  2 & 0 \\\\\n",
    "  0 & 2\n",
    "  \\end{bmatrix}\n",
    "  $$\n",
    "- 线性项向量：\n",
    "  $$\n",
    "  q = \\begin{bmatrix}\n",
    "  -2 \\\\\n",
    "  -5\n",
    "  \\end{bmatrix}\n",
    "  $$\n",
    "- 不等式约束矩阵：\n",
    "  $$\n",
    "  G = \\begin{bmatrix}\n",
    "  1 & -2 \\\\\n",
    "  -1 & -2 \\\\\n",
    "  -1 & 2 \\\\\n",
    "  1 & 0 \\\\\n",
    "  0 & 1\n",
    "  \\end{bmatrix}\n",
    "  $$\n",
    "- 不等式约束右侧向量：\n",
    "  $$\n",
    "  h = \\begin{bmatrix}\n",
    "  -2 \\\\\n",
    "  -6 \\\\\n",
    "  -2 \\\\\n",
    "  0 \\\\\n",
    "  0\n",
    "  \\end{bmatrix}\n",
    "  $$"
   ]
  },
  {
   "cell_type": "markdown",
   "id": "9fe096b8-0966-411b-a7d3-56f88c650be8",
   "metadata": {},
   "source": [
    "#### barrier 及 penalty"
   ]
  },
  {
   "cell_type": "markdown",
   "id": "11a04f5a-98fc-4c65-988e-776116bf9319",
   "metadata": {},
   "source": [
    "目标函数：\n",
    "$$\n",
    "f(x) = \\frac{1}{2}x^T Q x + q^T x + \\rho \\sum_{i=1}^{m} \\max(0, h_i - (Gx)_i)^2\n",
    "$$\n",
    "其中：\n",
    "- $x$ 是优化变量。\n",
    "- $Q$ 是二次项矩阵。\n",
    "- $q$ 是线性项向量。\n",
    "- $Gx \\geq h$ 表示不等式约束。\n",
    "- $\\rho$ 是惩罚系数。\n",
    "- $\\max(0, h_i - (Gx)_i)$ 计算约束违反值（仅对违反的约束施加惩罚）。\n",
    "\n",
    "罚函数的目标函数对违反约束的部分进行平方和惩罚。\n",
    "\n",
    "\n",
    "目标函数：\n",
    "$$\n",
    "f(x) = \\frac{1}{2}x^T Q x + q^T x - \\mu \\sum_{i=1}^{m} \\log((Gx)_i - h_i)\n",
    "$$\n",
    "其中：\n",
    "- $ x $ 是优化变量。\n",
    "- $ Q $ 是二次项矩阵。\n",
    "- $ q $ 是线性项向量。\n",
    "- $ Gx \\geq h $ 表示不等式约束。\n",
    "- $ \\mu $ 是屏障参数（控制屏障项的权重）。\n",
    "- $\\log((Gx)_i - h_i)$ 表示屏障函数（约束越接近违反，其值越大）。\n",
    "\n",
    "屏障法的目标函数通过对接近约束边界的变量施加负无穷大代价，防止违反约束。\n"
   ]
  },
  {
   "cell_type": "markdown",
   "id": "8a9ea182-a2d9-443a-b124-368cb48fe483",
   "metadata": {},
   "source": [
    "### scipy"
   ]
  },
  {
   "cell_type": "code",
   "execution_count": 4,
   "id": "02f40c21-a779-4691-a94d-7fa8be464d11",
   "metadata": {
    "execution": {
     "iopub.execute_input": "2024-12-02T14:21:21.564933Z",
     "iopub.status.busy": "2024-12-02T14:21:21.564282Z",
     "iopub.status.idle": "2024-12-02T14:21:21.576919Z",
     "shell.execute_reply": "2024-12-02T14:21:21.574755Z",
     "shell.execute_reply.started": "2024-12-02T14:21:21.564887Z"
    }
   },
   "outputs": [],
   "source": [
    "# 定义二次规划参数\n",
    "Q = np.array([[2, 0], [0, 2]])  # 二次项矩阵\n",
    "q = np.array([-2, -5])          # 线性项向量\n",
    "G = np.array([\n",
    "    [1, -2],\n",
    "    [-1, -2],\n",
    "    [-1, 2],\n",
    "    [1, 0],\n",
    "    [0, 1]\n",
    "])  \n",
    "# 不等式约束矩阵 Gx >= h\n",
    "h = np.array([-2, -6, -2, 0, 0])  # 不等式约束右侧向量"
   ]
  },
  {
   "cell_type": "code",
   "execution_count": 5,
   "id": "caaa59e1-65db-4d0f-97a9-9dcc38eb6d85",
   "metadata": {
    "execution": {
     "iopub.execute_input": "2024-12-02T14:21:32.650833Z",
     "iopub.status.busy": "2024-12-02T14:21:32.650155Z",
     "iopub.status.idle": "2024-12-02T14:21:32.674400Z",
     "shell.execute_reply": "2024-12-02T14:21:32.672105Z",
     "shell.execute_reply.started": "2024-12-02T14:21:32.650785Z"
    }
   },
   "outputs": [],
   "source": [
    "# 定义二次目标函数\n",
    "def objective(x, Q, q):\n",
    "    return 0.5 * np.dot(x, Q @ x) + np.dot(q, x)\n",
    "\n",
    "# 屏障法\n",
    "def barrier_method(Q, q, G, h, mu, x0, tol=1e-6, max_iter=50):\n",
    "    def barrier_objective(x):\n",
    "        barrier = -mu * np.sum(np.log(G @ x - h))\n",
    "        return objective(x, Q, q) + barrier\n",
    "\n",
    "    x = x0.copy()\n",
    "    for i in range(max_iter):\n",
    "        result = minimize(barrier_objective, x, method='SLSQP', tol=tol)\n",
    "        if not result.success:\n",
    "            print(f\"屏障法在第 {i+1} 次迭代中失败: {result.message}\")\n",
    "            break\n",
    "        x_new = result.x\n",
    "        # 检查收敛性\n",
    "        if np.linalg.norm(x_new - x) < tol:\n",
    "            x = x_new\n",
    "            print(f\"屏障法在第 {i+1} 次迭代中收敛.\")\n",
    "            break\n",
    "        x = x_new\n",
    "        mu /= 2  # 减小mu\n",
    "    return x, result.fun\n",
    "\n",
    "# 惩罚法\n",
    "def penalty_method(Q, q, G, h, rho, x0, tol=1e-6, max_iter=50):\n",
    "    def penalty_objective(x):\n",
    "        penalties = np.sum(np.maximum(0, h - G @ x) ** 2)\n",
    "        return objective(x, Q, q) + rho * penalties\n",
    "\n",
    "    x = x0.copy()\n",
    "    for i in range(max_iter):\n",
    "        result = minimize(penalty_objective, x, method='SLSQP', tol=tol)\n",
    "        if not result.success:\n",
    "            print(f\"惩罚法在第 {i+1} 次迭代中失败: {result.message}\")\n",
    "            break\n",
    "        x_new = result.x\n",
    "        # 检查收敛性\n",
    "        if np.linalg.norm(x_new - x) < tol:\n",
    "            x = x_new\n",
    "            print(f\"惩罚法在第 {i+1} 次迭代中收敛.\")\n",
    "            break\n",
    "        x = x_new\n",
    "        rho *= 2  # 增大rho\n",
    "    return x, result.fun"
   ]
  },
  {
   "cell_type": "code",
   "execution_count": 6,
   "id": "cb1651d6-8657-4e37-b865-471d6343b232",
   "metadata": {
    "execution": {
     "iopub.execute_input": "2024-12-02T14:30:22.888332Z",
     "iopub.status.busy": "2024-12-02T14:30:22.887695Z",
     "iopub.status.idle": "2024-12-02T14:30:23.003325Z",
     "shell.execute_reply": "2024-12-02T14:30:23.001408Z",
     "shell.execute_reply.started": "2024-12-02T14:30:22.888286Z"
    }
   },
   "outputs": [
    {
     "name": "stdout",
     "output_type": "stream",
     "text": [
      "屏障法在第 22 次迭代中收敛.\n",
      "惩罚法在第 18 次迭代中收敛.\n",
      "屏障法与惩罚法的比较结果：\n",
      "                                       最优解 x     目标函数值\n",
      "屏障法  [1.3996591205227056, 1.699824056646146] -6.449948\n",
      "惩罚法   [1.3997657479185002, 1.69988438811393] -6.450001\n"
     ]
    },
    {
     "name": "stderr",
     "output_type": "stream",
     "text": [
      "/tmp/ipykernel_9910/244663549.py:8: RuntimeWarning: invalid value encountered in log\n",
      "  barrier = -mu * np.sum(np.log(G @ x - h))\n"
     ]
    }
   ],
   "source": [
    "# 初始猜测\n",
    "x0 = np.array([0.5, 0.5])\n",
    "\n",
    "# 应用屏障法\n",
    "mu_init = 10.0\n",
    "x_barrier, f_barrier = barrier_method(Q, q, G, h, mu_init, x0)\n",
    "\n",
    "# 应用惩罚法\n",
    "rho_init = 1.0\n",
    "x_penalty, f_penalty = penalty_method(Q, q, G, h, rho_init, x0)\n",
    "\n",
    "# 比较结果\n",
    "results = {\n",
    "    \"屏障法\": {\n",
    "        \"最优解 x\": x_barrier,\n",
    "        \"目标函数值\": f_barrier\n",
    "    },\n",
    "    \"惩罚法\": {\n",
    "        \"最优解 x\": x_penalty,\n",
    "        \"目标函数值\": f_penalty\n",
    "    },\n",
    "}\n",
    "\n",
    "# 创建DataFrame并显示结果\n",
    "results_df = pd.DataFrame(results).T\n",
    "print(\"屏障法与惩罚法的比较结果：\")\n",
    "print(results_df)\n"
   ]
  },
  {
   "cell_type": "markdown",
   "id": "bdd897ba-6c62-41ff-831b-e841fb4b6c2e",
   "metadata": {},
   "source": [
    "### cvxpy"
   ]
  },
  {
   "cell_type": "code",
   "execution_count": 10,
   "id": "7361d09a-31fb-42ac-a9c4-135802897081",
   "metadata": {
    "execution": {
     "iopub.execute_input": "2024-12-02T14:33:24.180053Z",
     "iopub.status.busy": "2024-12-02T14:33:24.179793Z",
     "iopub.status.idle": "2024-12-02T14:33:24.676446Z",
     "shell.execute_reply": "2024-12-02T14:33:24.675790Z",
     "shell.execute_reply.started": "2024-12-02T14:33:24.180036Z"
    }
   },
   "outputs": [
    {
     "name": "stdout",
     "output_type": "stream",
     "text": [
      "最优解: [1.4 1.7]\n",
      "目标函数值: -6.449999999999999\n"
     ]
    }
   ],
   "source": [
    "import cvxpy as cp\n",
    "\n",
    "# 定义变量\n",
    "x = cp.Variable(2)\n",
    "# 定义目标函数\n",
    "objective = cp.Minimize(0.5 * cp.quad_form(x, Q) + q @ x)\n",
    "# 定义约束条件\n",
    "constraints = [G @ x >= h]\n",
    "# 求解问题\n",
    "prob = cp.Problem(objective, constraints)\n",
    "prob.solve()\n",
    "print(\"最优解:\", x.value)\n",
    "print(\"目标函数值:\", prob.value)"
   ]
  },
  {
   "cell_type": "code",
   "execution_count": null,
   "id": "423850eb-52ba-4742-80e0-9a0bdc38d3ec",
   "metadata": {},
   "outputs": [],
   "source": []
  }
 ],
 "metadata": {
  "kernelspec": {
   "display_name": "Python 3 (ipykernel)",
   "language": "python",
   "name": "python3"
  },
  "language_info": {
   "codemirror_mode": {
    "name": "ipython",
    "version": 3
   },
   "file_extension": ".py",
   "mimetype": "text/x-python",
   "name": "python",
   "nbconvert_exporter": "python",
   "pygments_lexer": "ipython3",
   "version": "3.10.13"
  }
 },
 "nbformat": 4,
 "nbformat_minor": 5
}
