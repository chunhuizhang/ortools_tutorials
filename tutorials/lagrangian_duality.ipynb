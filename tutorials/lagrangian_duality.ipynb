{
 "cells": [
  {
   "cell_type": "code",
   "execution_count": 1,
   "id": "d8a0ea83-d729-4e03-bfbb-828e83c75525",
   "metadata": {},
   "outputs": [],
   "source": [
    "from IPython.display import Image"
   ]
  },
  {
   "cell_type": "markdown",
   "id": "24d4e2ee-dba4-4fac-8548-b9e1e05065f8",
   "metadata": {},
   "source": [
    "## Lagrange multiplier"
   ]
  },
  {
   "cell_type": "code",
   "execution_count": 3,
   "id": "6c91d94d-fc2a-4c9f-8645-91aa599ced92",
   "metadata": {},
   "outputs": [
    {
     "data": {
      "text/html": [
       "<img src=\"../imgs/lagrange_multiplier_0503.png\" width=\"400\"/>"
      ],
      "text/plain": [
       "<IPython.core.display.Image object>"
      ]
     },
     "execution_count": 3,
     "metadata": {},
     "output_type": "execute_result"
    }
   ],
   "source": [
    "Image(url='../imgs/lagrange_multiplier_0503.png', width=400)"
   ]
  },
  {
   "cell_type": "code",
   "execution_count": 2,
   "id": "b82adcc3-b473-45bc-8cc8-c964a7c012bd",
   "metadata": {
    "scrolled": true
   },
   "outputs": [
    {
     "data": {
      "text/html": [
       "<img src=\"../imgs/primal_problem.png\" width=\"400\"/>"
      ],
      "text/plain": [
       "<IPython.core.display.Image object>"
      ]
     },
     "execution_count": 2,
     "metadata": {},
     "output_type": "execute_result"
    }
   ],
   "source": [
    "Image(url='../imgs/primal_problem.png', width=400)"
   ]
  },
  {
   "cell_type": "markdown",
   "id": "db4d2db1-92b4-41ed-a71d-3948aed23c0a",
   "metadata": {},
   "source": [
    "$$\n",
    "\\lambda \\in \\mathbb R^m, \\mu\\in \\mathbb R^p\n",
    "$$\n",
    "\n",
    "Lagrangian\n",
    "\n",
    "$$\n",
    "L(x,\\lambda,\\mu)=f(x)+\\lambda^Th(x)+\\mu^Tg(x)\n",
    "$$\n",
    "\n",
    "Dual\n",
    "\n",
    "$$\n",
    "q(\\lambda, \\mu)=\\min_{x\\in R^n} L(x,\\lambda,\\mu)\n",
    "$$\n",
    "\n",
    "- 如果 $x^\\star$ 是 primal 问题的最优解，$\\mu\\geq 0$，则有：\n",
    "\n",
    "$$\n",
    "\\begin{split}\n",
    "q(\\lambda,\\mu)=\\min_{x\\in R^n} L(x,\\lambda,\\mu)&\\leq L(x^\\star,\\lambda,\\mu)=f(x^\\star)+\\lambda^Th(x)+\\mu^Tg(x)\\\\\n",
    "&=f(x^\\star)+0+\\mu^Tg(x)\\\\\n",
    "&\\leq f(x^\\star)\n",
    "\\end{split}\n",
    "$$"
   ]
  },
  {
   "cell_type": "code",
   "execution_count": null,
   "id": "c7cd84b7-7106-4df1-b816-fa80536a03c3",
   "metadata": {},
   "outputs": [],
   "source": []
  }
 ],
 "metadata": {
  "kernelspec": {
   "display_name": "Python 3 (ipykernel)",
   "language": "python",
   "name": "python3"
  },
  "language_info": {
   "codemirror_mode": {
    "name": "ipython",
    "version": 3
   },
   "file_extension": ".py",
   "mimetype": "text/x-python",
   "name": "python",
   "nbconvert_exporter": "python",
   "pygments_lexer": "ipython3",
   "version": "3.10.13"
  }
 },
 "nbformat": 4,
 "nbformat_minor": 5
}
