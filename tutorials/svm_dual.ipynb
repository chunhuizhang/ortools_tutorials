{
 "cells": [
  {
   "cell_type": "markdown",
   "id": "f1fc6e86-b35b-48da-b93f-7a3df19c3fdc",
   "metadata": {},
   "source": [
    "- primal vs. dual\n",
    "- references\n",
    "    - https://domino.ai/blog/fitting-support-vector-machines-quadratic-programming\n",
    "    - https://github.com/mbhaskar1/mbhaskar1.github.io/blob/master/code_examples/svm.py"
   ]
  },
  {
   "cell_type": "code",
   "execution_count": 3,
   "id": "a4669ce6-4d84-4f7c-9a05-994016baeeff",
   "metadata": {},
   "outputs": [],
   "source": [
    "# !pip install cvxopt"
   ]
  },
  {
   "cell_type": "code",
   "execution_count": 47,
   "id": "f11928b8-698f-4559-ba2f-ec0073d95340",
   "metadata": {},
   "outputs": [],
   "source": [
    "import numpy as np\n",
    "import matplotlib.pyplot as plt\n",
    "from cvxopt import matrix, solvers"
   ]
  },
  {
   "cell_type": "markdown",
   "id": "ca99af61-9c35-456e-815b-a4b99aaac6d5",
   "metadata": {},
   "source": [
    "## original problem"
   ]
  },
  {
   "cell_type": "markdown",
   "id": "1508a698-8c73-485e-ab39-c607e42e1e4b",
   "metadata": {},
   "source": [
    "$$\n",
    "\\begin{aligned}\n",
    "& \\underset{w,b}{\\min}\n",
    "& & \\frac12\\|w\\|^2 \\\\\n",
    "& \\text{s.t.}\n",
    "& & y_i(w^Tx_i-b)\\geq 1, \\quad \\forall i=1,...,N\n",
    "\\end{aligned}\n",
    "$$\n",
    "\n",
    "- 每个约束中的等式成立的点，即为 support vector；\n",
    "    - 也就是说有的数据点，都需要在 margin 上，或者在 margin 外，不允许在 margin 内；"
   ]
  },
  {
   "cell_type": "markdown",
   "id": "fcca4124-0e9a-4814-ada6-73cc078aac46",
   "metadata": {},
   "source": [
    "## lagrange multipliers"
   ]
  },
  {
   "cell_type": "markdown",
   "id": "fb3fb385-b927-43d3-a166-a6b45baa21fe",
   "metadata": {},
   "source": [
    "$$\n",
    "L(w,b,\\alpha)=\\frac12w^Tw-\\sum_{i=1}^N\\alpha_i(y_i(w^Tx_i-b)-1)\n",
    "$$"
   ]
  },
  {
   "cell_type": "markdown",
   "id": "8241ebae-fbfa-4923-b70a-d19a64385a39",
   "metadata": {},
   "source": [
    "## dual"
   ]
  },
  {
   "cell_type": "markdown",
   "id": "d2342231-34e2-4845-90e0-6495aedbbb84",
   "metadata": {},
   "source": [
    "$$\n",
    "\\max_{\\alpha_i\\geq 0}\\left[\\min_{w,b}L(w,b,\\alpha)\\right]\n",
    "$$\n",
    "\n",
    "- 与原问题的等价并不总是成立的；\n",
    "- stationality\n",
    "    - $\\frac{\\partial L}{\\partial w}=0 \\Rightarrow w=\\sum_{i=1}^N\\alpha_iy_ix_i$\n",
    "    - $\\frac{\\partial L}{\\partial b}=0 \\Rightarrow \\sum_i\\alpha_iy_i=\\alpha^Ty=0$\n",
    "- 很重要的一个特点，对于 non support vectors（non SVs）$\\Rightarrow \\alpha_i=0$\n",
    "\n",
    "因此可以转换为：\n",
    "\n",
    "\n",
    "$$\n",
    "\\begin{split}\n",
    "&\\max_{\\alpha_i\\geq 0}\\left[\\sum_i\\alpha_i-\\frac12\\sum_{ij}\\alpha_i\\alpha_jy_iy_jx_i^Tx_j\\right]\\\\\n",
    "&\\min_{\\alpha_i\\geq 0}\\left[\\frac12\\sum_{ij\\in{\\text{pair of sv}}}\\alpha_i\\alpha_jy_iy_jx_i^Tx_j-\\sum_{i\\in\\text{sv}}\\alpha_i\\right]\n",
    "\\end{split}\n",
    "$$\n",
    "\n",
    "- 此时的约束为\n",
    "    - $\\alpha_i\\geq 0, \\forall i$\n",
    "    - $\\sum_i\\alpha_iy_i=0$\n",
    "- 优化的角度，这里其实是一个 QP（quadratic progamming）\n",
    "  - 将其按照 `cvxopt.solvers.qp` 的接口形式重写为\n",
    " \n",
    "$$\n",
    "\\begin{aligned} \\min_{\\alpha} \\quad & (1/2) \\boldsymbol{\\alpha}^T H \\boldsymbol{\\alpha} -1^T \\boldsymbol{\\alpha} \\\\ \\textrm{such that} \\quad & y^T \\boldsymbol{\\alpha} = 0 \\\\ \\quad & - \\alpha_i \\leq 0 \\; \\forall i \\end{aligned}\n",
    "$$"
   ]
  },
  {
   "cell_type": "markdown",
   "id": "3ffb2de4-0bbf-4e47-8dee-c43c2750a184",
   "metadata": {},
   "source": [
    "### why dual"
   ]
  },
  {
   "cell_type": "markdown",
   "id": "5889d813-c56b-46b9-8dc4-7ea45e4faf50",
   "metadata": {},
   "source": [
    "- high dimensional data, if $d\\geq N$ => $dN\\geq N^2$\n",
    "    - 比如单张图像的像素点的数量；\n",
    "- $x_i^Tx_j$: kernel friendly"
   ]
  },
  {
   "cell_type": "markdown",
   "id": "d799020a-a239-4d01-a6dc-19dffb003fbd",
   "metadata": {},
   "source": [
    "## cases 1"
   ]
  },
  {
   "cell_type": "code",
   "execution_count": 39,
   "id": "a367c0cd-f1b4-43da-af00-fe1162c0cad6",
   "metadata": {},
   "outputs": [],
   "source": [
    "X = np.array([[0, 2], [0, 0], [2, 1], [3, 4], [4, 3]])\n",
    "y = np.array([-1, -1, -1, 1, 1]).astype(np.double)"
   ]
  },
  {
   "cell_type": "code",
   "execution_count": 49,
   "id": "9f541abe-08ad-4b06-a666-2aee31a6d190",
   "metadata": {},
   "outputs": [
    {
     "data": {
      "text/plain": [
       "<matplotlib.collections.PathCollection at 0x7a2f0cc685b0>"
      ]
     },
     "execution_count": 49,
     "metadata": {},
     "output_type": "execute_result"
    },
    {
     "data": {
      "image/png": "[encoded data removed]",
      "text/plain": [
       "<Figure size 640x480 with 1 Axes>"
      ]
     },
     "metadata": {},
     "output_type": "display_data"
    }
   ],
   "source": [
    "plt.scatter(X[y == -1][:, 0], X[y == -1][:, 1], color='red', marker='o', label='Class -1')\n",
    "plt.scatter(X[y == 1][:, 0], X[y == 1][:, 1], color='blue', marker='x', label='Class 1')"
   ]
  },
  {
   "cell_type": "code",
   "execution_count": 40,
   "id": "a8718598-ce1f-4d3a-b07d-71206aad4461",
   "metadata": {},
   "outputs": [],
   "source": [
    "N = X.shape[0]\n",
    "\n",
    "# (1/2)*x'*P*x + q'*x\n",
    "P = np.dot(y[:, np.newaxis]*X, (y[:, np.newaxis]*X).T).astype(np.double)\n",
    "q = -1 * np.ones((N, 1))\n",
    "\n",
    "# Gx <= h\n",
    "G = -np.eye(N)\n",
    "h = np.zeros((N, 1))\n",
    "\n",
    "# Ax=b\n",
    "A = y[np.newaxis, :]\n",
    "b = np.zeros((1, 1))"
   ]
  },
  {
   "cell_type": "code",
   "execution_count": 41,
   "id": "8b85603f-db79-4b1c-8c79-d3f21305aaba",
   "metadata": {},
   "outputs": [],
   "source": [
    "P = matrix(P)\n",
    "q = matrix(q)\n",
    "G = matrix(G)\n",
    "h = matrix(h)\n",
    "A = matrix(A.astype('double'))\n",
    "b = matrix(b)"
   ]
  },
  {
   "cell_type": "code",
   "execution_count": 42,
   "id": "67337396-d995-4b1d-80a8-e4aaa7939f86",
   "metadata": {},
   "outputs": [
    {
     "name": "stdout",
     "output_type": "stream",
     "text": [
      "     pcost       dcost       gap    pres   dres\n",
      " 0: -6.8470e-01 -1.3037e+00  1e+01  3e+00  2e+00\n",
      " 1:  8.4198e-02 -8.1246e-01  1e+00  2e-01  9e-02\n",
      " 2: -1.6351e-01 -3.4503e-01  2e-01  8e-17  4e-16\n",
      " 3: -2.3651e-01 -2.5404e-01  2e-02  4e-17  4e-16\n",
      " 4: -2.4950e-01 -2.5045e-01  1e-03  3e-18  2e-16\n",
      " 5: -2.4994e-01 -2.5006e-01  1e-04  3e-17  5e-16\n",
      " 6: -2.4999e-01 -2.5001e-01  2e-05  4e-17  2e-16\n",
      " 7: -2.5000e-01 -2.5000e-01  2e-06  9e-17  4e-16\n",
      " 8: -2.5000e-01 -2.5000e-01  3e-07  6e-17  4e-16\n",
      " 9: -2.5000e-01 -2.5000e-01  5e-08  6e-17  5e-16\n",
      "Optimal solution found.\n"
     ]
    }
   ],
   "source": [
    "sol = solvers.qp(P, q, G, h, A, b)"
   ]
  },
  {
   "cell_type": "code",
   "execution_count": 46,
   "id": "0189a202-1aad-4548-bc8d-dab70a408c5a",
   "metadata": {},
   "outputs": [
    {
     "data": {
      "text/plain": [
       "array([[1.63950105e-09],\n",
       "       [5.46361524e-10],\n",
       "       [2.49999998e-01],\n",
       "       [1.46262626e-04],\n",
       "       [2.49853737e-01]])"
      ]
     },
     "execution_count": 46,
     "metadata": {},
     "output_type": "execute_result"
    }
   ],
   "source": [
    "lambdas = np.asarray(sol['x'], )\n",
    "lambdas"
   ]
  },
  {
   "cell_type": "code",
   "execution_count": 51,
   "id": "808cc746-766e-4217-9a6a-1029d5f98908",
   "metadata": {},
   "outputs": [
    {
     "data": {
      "text/plain": [
       "array([-1.49985373, -1.00014626])"
      ]
     },
     "execution_count": 51,
     "metadata": {},
     "output_type": "execute_result"
    }
   ],
   "source": [
    "w = np.dot((y * lambdas).T, X)[0]\n",
    "w"
   ]
  },
  {
   "cell_type": "code",
   "execution_count": 63,
   "id": "b6488998-90eb-405e-84b2-2448fe0ddedc",
   "metadata": {},
   "outputs": [
    {
     "data": {
      "text/plain": [
       "7.499951235589701"
      ]
     },
     "execution_count": 63,
     "metadata": {},
     "output_type": "execute_result"
    }
   ],
   "source": [
    "S = (lambdas > 1e-5).flatten()\n",
    "b = np.mean(y[S] - np.dot(X[S], w.reshape(-1,1)))\n",
    "b"
   ]
  }
 ],
 "metadata": {
  "kernelspec": {
   "display_name": "Python 3 (ipykernel)",
   "language": "python",
   "name": "python3"
  },
  "language_info": {
   "codemirror_mode": {
    "name": "ipython",
    "version": 3
   },
   "file_extension": ".py",
   "mimetype": "text/x-python",
   "name": "python",
   "nbconvert_exporter": "python",
   "pygments_lexer": "ipython3",
   "version": "3.10.13"
  }
 },
 "nbformat": 4,
 "nbformat_minor": 5
}
