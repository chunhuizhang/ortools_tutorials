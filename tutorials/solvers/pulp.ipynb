{
 "cells": [
  {
   "cell_type": "code",
   "execution_count": 3,
   "id": "89bb45dd",
   "metadata": {
    "ExecuteTime": {
     "end_time": "2023-11-02T12:42:38.133995Z",
     "start_time": "2023-11-02T12:42:38.087982Z"
    }
   },
   "outputs": [],
   "source": [
    "import pulp"
   ]
  },
  {
   "cell_type": "code",
   "execution_count": 4,
   "id": "994bc618",
   "metadata": {
    "ExecuteTime": {
     "end_time": "2023-11-02T12:48:03.927290Z",
     "start_time": "2023-11-02T12:48:03.923948Z"
    }
   },
   "outputs": [],
   "source": [
    "from pulp import LpProblem, LpMinimize"
   ]
  },
  {
   "cell_type": "code",
   "execution_count": 6,
   "id": "d8eb28c7",
   "metadata": {
    "ExecuteTime": {
     "end_time": "2023-11-02T12:48:43.546107Z",
     "start_time": "2023-11-02T12:48:43.540259Z"
    }
   },
   "outputs": [],
   "source": [
    "# model\n",
    "model = LpProblem('exam_scheduling', LpMinimize)"
   ]
  },
  {
   "cell_type": "code",
   "execution_count": 7,
   "id": "ab42ac92",
   "metadata": {
    "ExecuteTime": {
     "end_time": "2023-11-02T12:49:03.212915Z",
     "start_time": "2023-11-02T12:49:03.208035Z"
    }
   },
   "outputs": [],
   "source": [
    "# 决策变量\n",
    "from pulp import LpVariable"
   ]
  }
 ],
 "metadata": {
  "kernelspec": {
   "display_name": "Python 3 (ipykernel)",
   "language": "python",
   "name": "python3"
  },
  "language_info": {
   "codemirror_mode": {
    "name": "ipython",
    "version": 3
   },
   "file_extension": ".py",
   "mimetype": "text/x-python",
   "name": "python",
   "nbconvert_exporter": "python",
   "pygments_lexer": "ipython3",
   "version": "3.10.9"
  },
  "toc": {
   "base_numbering": 1,
   "nav_menu": {},
   "number_sections": true,
   "sideBar": true,
   "skip_h1_title": false,
   "title_cell": "Table of Contents",
   "title_sidebar": "Contents",
   "toc_cell": false,
   "toc_position": {},
   "toc_section_display": true,
   "toc_window_display": false
  }
 },
 "nbformat": 4,
 "nbformat_minor": 5
}
