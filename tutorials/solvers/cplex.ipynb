{
 "cells": [
  {
   "cell_type": "markdown",
   "id": "fd86fb32",
   "metadata": {},
   "source": [
    "- 下载地址：\n",
    "    - http://www.mysmu.edu/faculty/hclau/is421.html"
   ]
  },
  {
   "cell_type": "markdown",
   "id": "1a06fd02",
   "metadata": {},
   "source": [
    "## CPO: constraint programming optimizer"
   ]
  },
  {
   "cell_type": "markdown",
   "id": "afec609a",
   "metadata": {},
   "source": [
    "- https://ibmdecisionoptimization.github.io/docplex-doc/cp.html\n",
    "- https://www.ibm.com/docs/en/icos/12.10.0?topic=reference-opl-functions"
   ]
  },
  {
   "cell_type": "markdown",
   "id": "d94fac2f",
   "metadata": {},
   "source": [
    "### 8-queens"
   ]
  },
  {
   "cell_type": "markdown",
   "id": "fb4b0c09",
   "metadata": {},
   "source": [
    "- https://ibmdecisionoptimization.github.io/docplex-doc/cp/creating_model.html"
   ]
  },
  {
   "cell_type": "code",
   "execution_count": 2,
   "id": "f9d816d5",
   "metadata": {
    "ExecuteTime": {
     "end_time": "2023-11-05T11:07:01.427824Z",
     "start_time": "2023-11-05T11:07:01.420632Z"
    }
   },
   "outputs": [],
   "source": [
    "from docplex.cp.model import *\n",
    "NB_QUEEN = 8\n",
    "mdl = CpoModel()\n",
    "x = integer_var_list(NB_QUEEN, 0, NB_QUEEN - 1, \"X\")\n",
    "mdl.add(all_diff(x))\n",
    "mdl.add(all_diff([x[i] + i for i in range(NB_QUEEN)]))\n",
    "mdl.add(all_diff([x[i] - i for i in range(NB_QUEEN)]))"
   ]
  },
  {
   "cell_type": "code",
   "execution_count": 4,
   "id": "07e93e31",
   "metadata": {
    "ExecuteTime": {
     "end_time": "2023-11-05T11:09:05.774523Z",
     "start_time": "2023-11-05T11:09:05.663080Z"
    }
   },
   "outputs": [
    {
     "name": "stdout",
     "output_type": "stream",
     "text": [
      " ! --------------------------------------------------- CP Optimizer 22.1.1.0 --\n",
      " ! Satisfiability problem - 8 variables, 3 constraints\n",
      " ! Initial process time : 0.01s (0.01s extraction + 0.00s propagation)\n",
      " !  . Log search space  : 24.0 (before), 24.0 (after)\n",
      " !  . Memory usage      : 267.2 kB (before), 267.2 kB (after)\n",
      " ! Using parallel search with 64 workers.\n",
      " ! ----------------------------------------------------------------------------\n",
      " !               Branches  Non-fixed    W       Branch decision\n",
      " *                     10  0.09s        1         7 != X_3\n",
      " ! ----------------------------------------------------------------------------\n",
      " ! Search completed, 1 solution found.\n",
      " ! ----------------------------------------------------------------------------\n",
      " ! Number of branches     : 1695\n",
      " ! Number of fails        : 759\n",
      " ! Total memory usage     : 27.3 MB (27.3 MB CP Optimizer + 0.0 MB Concert)\n",
      " ! Time spent in solve    : 0.09s (0.09s engine + 0.01s extraction)\n",
      " ! Search speed (br. / s) : 21187.5\n",
      " ! ----------------------------------------------------------------------------\n",
      "4 5 3\n",
      "1 2 0\n",
      "7 8 6\n",
      "0 1 -1\n",
      "3 4 2\n",
      "6 7 5\n",
      "2 3 1\n",
      "5 6 4\n"
     ]
    }
   ],
   "source": [
    "sln = mdl.solve()\n",
    "for i, v in enumerate(x):\n",
    "    print(sln[v], sln[v]+1, sln[v]-1)"
   ]
  },
  {
   "cell_type": "markdown",
   "id": "8135268f",
   "metadata": {},
   "source": [
    "### 特有的api"
   ]
  },
  {
   "cell_type": "markdown",
   "id": "26266983",
   "metadata": {},
   "source": [
    "- `alternative`\n",
    "    - 用于表示多个可能的选择，但只有一个可以在解决方案中选择。\n",
    "- `typeOfPrev/typeOfNext`\n",
    "    - 在一个给定的活动之前或之后必须有哪种类型的转换。"
   ]
  }
 ],
 "metadata": {
  "kernelspec": {
   "display_name": "Python 3 (ipykernel)",
   "language": "python",
   "name": "python3"
  },
  "language_info": {
   "codemirror_mode": {
    "name": "ipython",
    "version": 3
   },
   "file_extension": ".py",
   "mimetype": "text/x-python",
   "name": "python",
   "nbconvert_exporter": "python",
   "pygments_lexer": "ipython3",
   "version": "3.10.9"
  },
  "toc": {
   "base_numbering": 1,
   "nav_menu": {},
   "number_sections": true,
   "sideBar": true,
   "skip_h1_title": false,
   "title_cell": "Table of Contents",
   "title_sidebar": "Contents",
   "toc_cell": false,
   "toc_position": {},
   "toc_section_display": true,
   "toc_window_display": false
  }
 },
 "nbformat": 4,
 "nbformat_minor": 5
}
