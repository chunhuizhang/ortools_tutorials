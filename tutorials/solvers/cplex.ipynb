{
 "cells": [
  {
   "cell_type": "markdown",
   "id": "96673476",
   "metadata": {},
   "source": [
    "## CPO: constraint programming optimizer"
   ]
  },
  {
   "cell_type": "markdown",
   "id": "99622ea3",
   "metadata": {},
   "source": [
    "- https://ibmdecisionoptimization.github.io/docplex-doc/cp.html\n",
    "- https://www.ibm.com/docs/en/icos/12.10.0?topic=reference-opl-functions"
   ]
  },
  {
   "cell_type": "markdown",
   "id": "c1dfbb69",
   "metadata": {},
   "source": [
    "### 特有的api"
   ]
  },
  {
   "cell_type": "markdown",
   "id": "d66b1575",
   "metadata": {},
   "source": [
    "- `alternative`\n",
    "- `noOverlap`: 全局约束；"
   ]
  }
 ],
 "metadata": {
  "kernelspec": {
   "display_name": "Python 3 (ipykernel)",
   "language": "python",
   "name": "python3"
  },
  "language_info": {
   "codemirror_mode": {
    "name": "ipython",
    "version": 3
   },
   "file_extension": ".py",
   "mimetype": "text/x-python",
   "name": "python",
   "nbconvert_exporter": "python",
   "pygments_lexer": "ipython3",
   "version": "3.10.9"
  },
  "toc": {
   "base_numbering": 1,
   "nav_menu": {},
   "number_sections": true,
   "sideBar": true,
   "skip_h1_title": false,
   "title_cell": "Table of Contents",
   "title_sidebar": "Contents",
   "toc_cell": false,
   "toc_position": {},
   "toc_section_display": true,
   "toc_window_display": false
  }
 },
 "nbformat": 4,
 "nbformat_minor": 5
}
