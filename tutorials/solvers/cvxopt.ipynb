{
 "cells": [
  {
   "cell_type": "code",
   "execution_count": 1,
   "id": "06c62d01-e033-4afb-a10d-1b6c56fec62b",
   "metadata": {},
   "outputs": [],
   "source": [
    "from cvxopt import matrix, solvers"
   ]
  },
  {
   "cell_type": "markdown",
   "id": "29194370-c68b-4343-b007-be873c0d723f",
   "metadata": {},
   "source": [
    "### QP（Quadratic Progamming）"
   ]
  },
  {
   "cell_type": "markdown",
   "id": "aab7a2d8-c2bb-4535-a894-67470c92a4bf",
   "metadata": {},
   "source": [
    "$$\n",
    "\\begin{aligned}\n",
    "& \\underset{x}{\\text{minimize}}\n",
    "& & \\frac{1}{2} x^\\top P x + q^\\top x \\\\\n",
    "& \\text{subject to}\n",
    "& & Gx \\leq h, \\\\\n",
    "& & & Ax = b.\n",
    "\\end{aligned}\n",
    "$$"
   ]
  },
  {
   "cell_type": "code",
   "execution_count": 5,
   "id": "e2afdfd6-2312-4b90-943f-5a734737e1bc",
   "metadata": {},
   "outputs": [],
   "source": [
    "# solvers.qp??"
   ]
  }
 ],
 "metadata": {
  "kernelspec": {
   "display_name": "Python 3 (ipykernel)",
   "language": "python",
   "name": "python3"
  },
  "language_info": {
   "codemirror_mode": {
    "name": "ipython",
    "version": 3
   },
   "file_extension": ".py",
   "mimetype": "text/x-python",
   "name": "python",
   "nbconvert_exporter": "python",
   "pygments_lexer": "ipython3",
   "version": "3.10.13"
  }
 },
 "nbformat": 4,
 "nbformat_minor": 5
}
