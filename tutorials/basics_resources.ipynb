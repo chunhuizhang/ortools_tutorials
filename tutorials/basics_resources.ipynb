{
 "cells": [
  {
   "cell_type": "markdown",
   "id": "ffa41dbd",
   "metadata": {},
   "source": [
    "## 学习资源"
   ]
  },
  {
   "cell_type": "markdown",
   "id": "675e709d",
   "metadata": {},
   "source": [
    "- 雨阳老师：B站；https://space.bilibili.com/514124155"
   ]
  },
  {
   "cell_type": "markdown",
   "id": "3376ee01",
   "metadata": {},
   "source": [
    "## 优化问题分类及对应 solver"
   ]
  },
  {
   "cell_type": "markdown",
   "id": "3d09982d",
   "metadata": {},
   "source": [
    "- linear\n",
    "    - non-integer\n",
    "    - linear\n",
    "- non-linear\n",
    "    - convex\n",
    "    - non-convex\n",
    "        - PWLC：piecewise linear and convex\n",
    "        \n",
    "    - 举例\n",
    "        - `scipy.optimize.curve_fit`: non-linear least squares"
   ]
  },
  {
   "cell_type": "markdown",
   "id": "c5475a36",
   "metadata": {},
   "source": [
    "## cp_sat"
   ]
  },
  {
   "cell_type": "markdown",
   "id": "8eb06423",
   "metadata": {},
   "source": [
    "- 重点关注下：Laurent Perron，google ortools 项目负责人\n",
    "- https://github.com/google/or-tools/tree/stable/examples\n",
    "    - https://github.com/google/or-tools/tree/stable/examples/notebook/constraint_solver\n",
    "- https://www.academia.edu/2425458/Constraint_Programming_My_View?email_work_card=view-paper\n",
    "    - https://github.com/oulianov/cp-sat-fun"
   ]
  }
 ],
 "metadata": {
  "kernelspec": {
   "display_name": "Python 3 (ipykernel)",
   "language": "python",
   "name": "python3"
  },
  "language_info": {
   "codemirror_mode": {
    "name": "ipython",
    "version": 3
   },
   "file_extension": ".py",
   "mimetype": "text/x-python",
   "name": "python",
   "nbconvert_exporter": "python",
   "pygments_lexer": "ipython3",
   "version": "3.10.13"
  },
  "toc": {
   "base_numbering": 1,
   "nav_menu": {},
   "number_sections": true,
   "sideBar": true,
   "skip_h1_title": false,
   "title_cell": "Table of Contents",
   "title_sidebar": "Contents",
   "toc_cell": false,
   "toc_position": {},
   "toc_section_display": true,
   "toc_window_display": false
  }
 },
 "nbformat": 4,
 "nbformat_minor": 5
}
